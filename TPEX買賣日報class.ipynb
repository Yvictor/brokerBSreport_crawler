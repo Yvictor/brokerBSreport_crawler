{
 "cells": [
  {
   "cell_type": "code",
   "execution_count": 1,
   "metadata": {
    "collapsed": true
   },
   "outputs": [],
   "source": [
    "import requests\n",
    "import io\n",
    "from bs4 import BeautifulSoup as BS\n",
    "import pandas as pd\n",
    "import sys\n",
    "import time\n",
    "from datetime import date,datetime,timedelta\n",
    "import random\n",
    "import numpy as np\n",
    "from PIL import Image as IM\n",
    "import pytesseract\n",
    "import os\n",
    "import cv2\n",
    "import re\n",
    "import asyncio\n",
    "import hangups\n",
    "from scipy.misc import toimage\n",
    "from sklearn import preprocessing"
   ]
  },
  {
   "cell_type": "code",
   "execution_count": 2,
   "metadata": {
    "collapsed": false
   },
   "outputs": [
    {
     "name": "stderr",
     "output_type": "stream",
     "text": [
      "Using Theano backend.\n"
     ]
    }
   ],
   "source": [
    "from keras.models import Sequential\n",
    "from keras.layers import Dense, Dropout, Activation, Flatten\n",
    "from keras.layers import Convolution2D, MaxPooling2D\n",
    "from keras.optimizers import SGD\n",
    "from keras.models import model_from_json\n",
    "from keras.utils import np_utils"
   ]
  },
  {
   "cell_type": "code",
   "execution_count": 3,
   "metadata": {
    "collapsed": true
   },
   "outputs": [],
   "source": [
    "import matplotlib.pyplot as plt\n",
    "%matplotlib inline"
   ]
  },
  {
   "cell_type": "code",
   "execution_count": 4,
   "metadata": {
    "collapsed": true
   },
   "outputs": [],
   "source": [
    "class captcha_recognize:\n",
    "    def __init__(self):\n",
    "        self.model = None\n",
    "        self.lable = ['1', '2', '3', '4', '5', '6', '7', '8', '9', 'A', 'B', 'C', 'D',\n",
    "       'E', 'F', 'G', 'H', 'I', 'J', 'K', 'L', 'M', 'N', 'P', 'Q', 'R',\n",
    "       'S', 'T', 'U', 'V', 'W', 'X', 'Y', 'Z']\n",
    "    def one_hot_reverse(self,onehot):\n",
    "        return self.lable[np.where(onehot==1)[0][0]]\n",
    "    def load_model(self):\n",
    "        self.model = model_from_json(open('TPEX_cnn_captcha.json').read())\n",
    "        self.model.load_weights('TPEX_captcha_weights.h5')\n",
    "\n",
    "        sgd = SGD(lr=0.01, decay=1e-6, momentum=0.9, nesterov=True)\n",
    "        self.model.compile(loss='categorical_crossentropy',\n",
    "                      optimizer=sgd,\n",
    "                      metrics=['accuracy'])\n",
    "    def preprocess(self,image):\n",
    "        X = []\n",
    "        imgpos = [[0,32],[25,57],[49,81],[72,104],[98,130]]\n",
    "        #image = IM.open('/home/ubuntu/Notebooks/captest.png')\n",
    "        imgarray = np.asarray(image.convert(mode='RGB'))\n",
    "        #print(imgarray.shape)\n",
    "        for tid in range(5):\n",
    "            X.append(imgarray[:,imgpos[tid][0]:imgpos[tid][1]].reshape(3,32,30))\n",
    "        X = np.array(X).astype('float32')\n",
    "        X /= 255\n",
    "        return X\n",
    "    \n",
    "    def captcha_predict(self,X):\n",
    "        if type(self.model)!= Sequential:\n",
    "            self.load_model()\n",
    "        ans = self.model.predict(X)\n",
    "        captcha =''\n",
    "        for i in ans:\n",
    "            captcha += self.lable[i.argmax()]\n",
    "        return captcha"
   ]
  },
  {
   "cell_type": "code",
   "execution_count": null,
   "metadata": {
    "collapsed": true
   },
   "outputs": [],
   "source": [
    "captcha_rec = captcha_recognize()"
   ]
  },
  {
   "cell_type": "code",
   "execution_count": null,
   "metadata": {
    "collapsed": true
   },
   "outputs": [],
   "source": [
    "captcha_rec.captcha_predict(captcha_rec.preprocess(IM.open(io.BytesIO(captc.content))))"
   ]
  },
  {
   "cell_type": "code",
   "execution_count": 6,
   "metadata": {
    "collapsed": true
   },
   "outputs": [],
   "source": [
    "class TPEXBSreport:\n",
    "    def __init__(self):\n",
    "        self.rs = requests.session()\n",
    "        self.curpath = ''\n",
    "        self.datenow = self.__getdate()\n",
    "        self.notradedata = []#new\n",
    "        stockidt = pd.read_csv(self.curpath+'csv_data/listcompanyo.csv',encoding='utf-8')\n",
    "        self.stockidL = stockidt['股票代號'].tolist()\n",
    "        self.captcha_rec = captcha_recognize()\n",
    "    def __getdate(self):\n",
    "        d = datetime.now()\n",
    "        if d.hour<16:\n",
    "            d = d.date() - timedelta(1)\n",
    "        if type(d) != type(date.today()):\n",
    "                d = d.date()\n",
    "        if d.isoweekday() == 7:\n",
    "            d = d - timedelta(2)\n",
    "        elif d.isoweekday() == 6:\n",
    "            d = d - timedelta(1)\n",
    "        return d\n",
    "    def getCaptcha(self):\n",
    "        sleeptime = 30\n",
    "        captcha = None\n",
    "        while str(captcha) != '<Response [200]>':\n",
    "            try:\n",
    "                captcha = self.rs.get('http://www.tpex.org.tw/web/inc/authnum.php',stream=True, verify=False)\n",
    "            except:\n",
    "                time.sleep(sleeptime)\n",
    "                sleeptime+=300\n",
    "        return captcha.content\n",
    "\n",
    "        \n",
    "    def OCR(self):\n",
    "        return self.captcha_rec.captcha_predict(self.captcha_rec.preprocess(IM.open(io.BytesIO(self.getCaptcha()))))\n",
    "    \n",
    "            \n",
    "    def postpayload(self,stockid,captcha,urltype):\n",
    "        payload = {\n",
    "            'stk_code': '%s'%str(stockid),\n",
    "            'auth_num':captcha\n",
    "        }\n",
    "        res = self.rs.post('http://www.tpex.org.tw/web/stock/aftertrading/broker_trading/brokerBS.php',data = payload)\n",
    "        res.encoding = 'utf-8'\n",
    "        soup = BS(res.text,\"lxml\")\n",
    "        self.answ = soup.select('.pt10')[0].text  \n",
    "        if self.answ == '\\n ***驗證碼錯誤，請重新查詢。*** \\n':\n",
    "            correctanswer = 0\n",
    "        elif self.answ == '\\n ***該股票該日無交易資訊*** \\n':\n",
    "            return 2\n",
    "        elif self.answ[0:7] == '\\n\\n\\n交易日期':\n",
    "            correctanswer = 1\n",
    "            #self.savecorimg(captcha)\n",
    "            self.ind = pd.read_html(str(soup.select('.table-striped')[0]))[0]\n",
    "            self.dtda = re.sub('[^0-9]','/',self.ind[1][0]).split('/')[0:3]\n",
    "            stkd = ('').join(self.dtda)\n",
    "            urlbig5 = 'http://www.tpex.org.tw/web/stock/aftertrading/broker_trading/download_ALLCSV.php?curstk='\n",
    "            urlutf8 = 'http://www.tpex.org.tw/web/stock/aftertrading/broker_trading/download_ALLCSV_UTF-8.php?curstk='\n",
    "            if urltype == 5:\n",
    "                url = urlbig5+str(stockid)+'&stk_date='+stkd+'&auth='+captcha\n",
    "            elif urltype ==8:\n",
    "                url = urlutf8+str(stockid)+'&stk_date='+stkd+'&auth='+captcha\n",
    "            self.csvf = self.rs.get(url,stream=True, verify=False)\n",
    "        else:\n",
    "            correctanswer = 0\n",
    "        return correctanswer\n",
    "    \n",
    "    def processdata(self,stockid):\n",
    "        dat = date(int(self.dtda[0])+1911,int(self.dtda[1]),int(self.dtda[2]))\n",
    "        tda = int(self.ind[1][1])\n",
    "        ap = int(re.sub('[^0-9]','',self.ind[3][1]))\n",
    "        allshare = self.ind[5][1]\n",
    "        rt_ratio = self.ind[7][1]\n",
    "        op = float(self.ind[1][2])\n",
    "        hp = float(self.ind[3][2])\n",
    "        lp = float(self.ind[5][2])\n",
    "        cp = float(self.ind[7][2])\n",
    "        d = {\"日期\":dat,\n",
    "             \"代號\":stockid,\n",
    "             \"成交筆數\":tda,\n",
    "             \"總成交金額\":ap,\n",
    "             \"總成交股數\":allshare,\n",
    "             \"周轉率(%)\":rt_ratio,\n",
    "             \"開盤價\":op,\n",
    "             \"最高價\":hp,\n",
    "             \"最低價\":lp,\n",
    "             \"收盤價\":cp}\n",
    "        ind = pd.DataFrame(d, index=[1])\n",
    "        ind.index.name = '序號'\n",
    "        tablens = pd.read_csv(io.StringIO(self.csvf.text.split('證券代碼')[1][7:]),encoding='utf-8')\n",
    "        table00 = tablens[['序號','券商','價格','買進股數','賣出股數']]\n",
    "        table01 = tablens[['序號.1','券商.1','價格.1','買進股數.1','賣出股數.1']]\n",
    "        table00.columns = ['序號','證券商','成交單價','買進股數','賣出股數']\n",
    "        table01.columns = ['序號','證券商','成交單價','買進股數','賣出股數']\n",
    "        frame00 = [table00,table01]\n",
    "        table = pd.concat(frame00)\n",
    "        table = table.set_index('序號')\n",
    "        table = table.dropna()\n",
    "        table = table.sort_index()\n",
    "        table.index.name = '序'\n",
    "        table['買進股數'] = table['買進股數'].map(lambda x: getint(x))\n",
    "        table['賣出股數'] = table['賣出股數'].map(lambda x: getint(x))\n",
    "        table = table.join(ind)\n",
    "        table[[\"日期\",\"代號\",\"成交筆數\",\"總成交金額\",\"總成交股數\",\"周轉率(%)\",\"開盤價\",\"最高價\",\"最低價\",\"收盤價\"]] = table[[\"日期\",\"代號\",\"成交筆數\",\"總成交金額\",\"總成交股數\",\"周轉率(%)\",\"開盤價\",\"最高價\",\"最低價\",\"收盤價\"]].fillna(method='pad')\n",
    "        table = table[[\"日期\",\"代號\",\"成交筆數\",\"總成交金額\",\"總成交股數\",\"周轉率(%)\",\"開盤價\",\"最高價\",\"最低價\",\"收盤價\",\"證券商\",\"成交單價\",\"買進股數\",\"賣出股數\"]]\n",
    "        table['日期'] = pd.to_datetime(table['日期'])\n",
    "        filename = str(stockid)+\"_\"+('').join(str(dat).split('-'))\n",
    "        table.to_csv(self.curpath+'csv_data/stockdt/ori/%s.csv'%filename)\n",
    "        #######################################################################################\n",
    "        buyp = table.apply(lambda row: row['成交單價']*row['買進股數'],axis=1)\n",
    "        table.insert(13,'買進金額',buyp)\n",
    "        sellp = table.apply(lambda row: row['成交單價']*row['賣出股數'],axis=1)\n",
    "        table.insert(14,'賣出金額',sellp)\n",
    "        table_sort = table.groupby([\"日期\",\"代號\",\"成交筆數\",\"總成交金額\",\"總成交股數\",\"周轉率(%)\",\"開盤價\",\"最高價\",\"最低價\",\"收盤價\",\"證券商\"])[['買進股數','賣出股數','買進金額','賣出金額']].sum()\n",
    "        table_sort = table_sort.reset_index([\"成交筆數\",\"總成交金額\",\"總成交股數\",\"周轉率(%)\",\"開盤價\",\"最高價\",\"最低價\",\"收盤價\"])\n",
    "        table_sort = table_sort[['買進股數','賣出股數','買進金額','賣出金額',\"成交筆數\",\"總成交金額\",\"總成交股數\",\"周轉率(%)\",\"開盤價\",\"最高價\",\"最低價\",\"收盤價\"]]\n",
    "        b_avg_p = table_sort.apply(lambda row: divexpectz(row['買進金額'],row['買進股數']),axis=1)\n",
    "        s_avg_p = table_sort.apply(lambda row: divexpectz(row['賣出金額'],row['賣出股數']),axis=1)\n",
    "        b_ratio = table_sort.apply(lambda row: divexpectz(row['買進股數'],row['總成交股數'])*100,axis=1)\n",
    "        s_ratio = table_sort.apply(lambda row: divexpectz(row['賣出股數'],row['總成交股數'])*100,axis=1)\n",
    "        bs_share_net = table_sort.apply(lambda row: row['買進股數']-row['賣出股數'],axis=1)\n",
    "        bs_price_net = table_sort.apply(lambda row: row['買進金額']-row['賣出金額'],axis=1)\n",
    "        table_sort.insert(2,'買賣超股數',bs_share_net)\n",
    "        table_sort.insert(5,'買賣超金額',bs_price_net)\n",
    "        table_sort.insert(6,'買進均價',b_avg_p)\n",
    "        table_sort.insert(7,'賣出均價',s_avg_p)\n",
    "        table_sort.insert(8,'買進比重',b_ratio)\n",
    "        table_sort.insert(9,'賣出比重',s_ratio)\n",
    "        if os.path.exists(self.curpath+'csv_data/stockdt/sort/%s.csv'%str(stockid)) == False:\n",
    "            table_sort.to_csv(self.curpath+'csv_data/stockdt/sort/%s.csv'%str(stockid))\n",
    "        #after first time use\n",
    "        table_s = pd.read_csv(self.curpath+'csv_data/stockdt/sort/%s.csv'%str(stockid),encoding='utf-8',index_col=[0,1,2],parse_dates=[0])\n",
    "        if dat not in table_s.index.levels[0]:\n",
    "            frame = [table_sort,table_s]\n",
    "            table_s = pd.concat(frame)\n",
    "        table_s.to_csv(self.curpath+'csv_data/stockdt/sort/%s.csv'%str(stockid))\n",
    "    \n",
    "    def singleprocess(self,stockid):\n",
    "        anscor = 0\n",
    "        repostcount = 0\n",
    "        changeurltype = 0\n",
    "        filename = str(stockid)+\"_\"+('').join(str(self.datenow).split('-'))\n",
    "        if os.path.exists(self.curpath+'csv_data/stockdt/ori/%s.csv'%filename) == False:\n",
    "            while anscor == 0:\n",
    "                if changeurltype ==0:\n",
    "                    urltype = 5\n",
    "                elif changeurltype==1:\n",
    "                    urltype = 8\n",
    "                Capt = ''\n",
    "                while len(Capt) !=5:\n",
    "                    try:\n",
    "                        Capt = self.OCR()\n",
    "                    except:\n",
    "                        pass\n",
    "                anscor = self.postpayload(stockid, Capt,urltype)\n",
    "                returnstat(stockid,repostcount)\n",
    "                repostcount +=1\n",
    "                if anscor == 2:\n",
    "                    self.notradedata.append(stockid)\n",
    "                    break\n",
    "                if repostcount>150:\n",
    "                    repostcount = 150\n",
    "                    break\n",
    "                time.sleep(random.choice([2.8,3.2,3.8,4.1,4.7]))\n",
    "                while anscor == 1 and int(self.dtda[0])<85:\n",
    "                    anscor = self.postpayload(stockid, Capt, urltype)\n",
    "                    time.sleep(random.choice([1.3,1.8,1.4,1.1,1.5]))\n",
    "                if anscor == 1 and int(self.dtda[0])>85:\n",
    "                    try:\n",
    "                        self.processdata(stockid)\n",
    "                        changeurltype = 0\n",
    "                    except:\n",
    "                        changeurltype = 1\n",
    "                        anscor = 0\n",
    "        if os.path.exists(self.curpath+'csv_data/stockdt/ori/%s.csv'%filename) == True:\n",
    "            repostcount = 100\n",
    "        return stockid,repostcount\n",
    "    \n",
    "    def processAll(self):\n",
    "        starttime = datetime.now()\n",
    "        stlen = len(self.stockidL)\n",
    "        self.arrcu = []\n",
    "        global MESSAGE\n",
    "        MESSAGE = ''\n",
    "        for i in range(stlen):\n",
    "            a = self.singleprocess(self.stockidL[i])\n",
    "            if a[1]==150:\n",
    "                a = self.singleprocess(self.stockidL[i])\n",
    "            ptime = datetime.now()\n",
    "            text = \"\\r上櫃 {0}/{1} 已完成 {2}%  處理時間: {3}\".format(i+1,stlen,round((i+1)/stlen,4)*100,str(ptime-starttime))\n",
    "            sys.stdout.write(text)\n",
    "            sys.stdout.flush()\n",
    "            #MESSAGE = \"上櫃 {0}/{1} 已完成 {2}%  處理時間: {3}\".format(i+1,stlen,round((i+1)/stlen,4)*100,str(ptime-starttime))\n",
    "            #Hangouts()\n",
    "            self.arrcu.append(a)\n",
    "            if self.arrcu[-1][1] == 0:\n",
    "                time.sleep(3)\n",
    "            if len(self.arrcu)>3 and self.arrcu[-1][1] == 0 and self.arrcu[-2][1] == 0 and self.arrcu[-3][1] == 0:\n",
    "                time.sleep(5)\n",
    "        endtime = datetime.now()\n",
    "        spendt = str(endtime - starttime)\n",
    "        MESSAGE = \"上櫃股票交易日報下載完成 \\n 花費時間:{0}\".format(spendt)\n",
    "        Hangouts()\n",
    "    \n",
    "    def checkunprocesslist(self):\n",
    "        datestr = ('').join(str(self.datenow).split('-'))+'.csv'\n",
    "        fprocessed = [int(i.split('_')[0]) for i in os.listdir('csv_data/stockdt/ori') if i.endswith(datestr)==True] + self.notradedata\n",
    "        self.unprocess = [i for i in self.stockidL if i not in fprocessed]\n",
    "        return round(len(self.unprocess)/len(self.stockidL),4)*100,len(self.unprocess),len(self.stockidL)"
   ]
  },
  {
   "cell_type": "code",
   "execution_count": 5,
   "metadata": {
    "collapsed": false
   },
   "outputs": [],
   "source": [
    "def getint(x):\n",
    "    if type(x) == str:\n",
    "        return int(('').join(x.split(',')))\n",
    "    else:\n",
    "        return x\n",
    "def divexpectz(a,b):\n",
    "    if b == 0:\n",
    "        return 0\n",
    "    else:\n",
    "        return round(a/b,2)\n",
    "def returnstat(id0,reposttime):\n",
    "    text = \"\\r {0}重新取得驗證碼次數:{1}\".format(id0,reposttime)\n",
    "    sys.stdout.write(text)\n",
    "    sys.stdout.flush()\n",
    "\n",
    "refpath = ''#os.getcwd()+'/'\n",
    "CONVERSATION_ID = 'Ugx10p7pgNA_uogOqn54AaABAagB3ZWGCA'\n",
    "REFRESH_TOKEN_PATH = refpath+'refresh_token.txt'\n",
    "    \n",
    "def Hangouts():\n",
    "    cookies = hangups.auth.get_auth_stdin(REFRESH_TOKEN_PATH)\n",
    "    client = hangups.Client(cookies)\n",
    "    client.on_connect.add_observer(lambda: asyncio.async(send_message(client)))\n",
    "    loop = asyncio.get_event_loop()\n",
    "    loop.run_until_complete(client.connect())\n",
    "@asyncio.coroutine\n",
    "def send_message(client):\n",
    "    \"\"\"Send message using connected hangups.Client instance.\"\"\"\n",
    "    request = hangups.hangouts_pb2.SendChatMessageRequest(\n",
    "        request_header=client.get_request_header(),\n",
    "        event_request_header=hangups.hangouts_pb2.EventRequestHeader(\n",
    "            conversation_id=hangups.hangouts_pb2.ConversationId(id=CONVERSATION_ID),\n",
    "            client_generated_id=client.get_client_generated_id(),),\n",
    "        message_content=hangups.hangouts_pb2.MessageContent(\n",
    "            segment=[hangups.ChatMessageSegment(MESSAGE).serialize()],),)\n",
    "    try:\n",
    "        yield from client.send_chat_message(request)\n",
    "    finally:\n",
    "        yield from client.disconnect()\n",
    "    \n",
    "    \n",
    "class TPEXBSreport:\n",
    "    def __init__(self):\n",
    "        self.rs = requests.session()\n",
    "        self.curpath = ''\n",
    "        self.datenow = self.__getdate()\n",
    "        self.notradedata = []#new\n",
    "        stockidt = pd.read_csv(self.curpath+'csv_data/listcompanyo.csv',encoding='utf-8')\n",
    "        self.stockidL = stockidt['股票代號'].tolist()\n",
    "    def __constr(self,l):\n",
    "        an = re.sub('[^A-Z0-9]','',l.upper())\n",
    "        if len(an) > 5:\n",
    "            an = re.sub('[^A-HJ-Z0-9]','',l.upper())\n",
    "        if '0' in an:\n",
    "            an = an.replace('0','Q')\n",
    "        if 'O' in an:\n",
    "            an = an.replace('O','Q')\n",
    "        return an\n",
    "    def __getdate(self):\n",
    "        d = datetime.now()\n",
    "        if d.hour<16:\n",
    "            d = d.date() - timedelta(1)\n",
    "        if type(d) != type(date.today()):\n",
    "                d = d.date()\n",
    "        if d.isoweekday() == 7:\n",
    "            d = d - timedelta(2)\n",
    "        elif d.isoweekday() == 6:\n",
    "            d = d - timedelta(1)\n",
    "        return d\n",
    "    def getCaptcha(self):\n",
    "        sleeptime = 30\n",
    "        captcha = None\n",
    "        while str(captcha) != '<Response [200]>':\n",
    "            try:\n",
    "                captcha = self.rs.get('http://www.tpex.org.tw/web/inc/authnum.php',stream=True, verify=False)\n",
    "            except:\n",
    "                time.sleep(sleeptime)\n",
    "                sleeptime+=300\n",
    "        return captcha.content\n",
    "    def cv2image(self):\n",
    "        captchat_byte = self.getCaptcha()\n",
    "        image_rgb = cv2.imdecode(np.frombuffer(captchat_byte,dtype=np.uint8),flags=1)\n",
    "        image_gray = cv2.imdecode(np.frombuffer(captchat_byte,dtype=np.uint8),flags=0)\n",
    "        cv2.imwrite(self.curpath+\"ocrcorrect/otcoir/bkcapt.png\", image_rgb)\n",
    "        plt.imshow(image_rgb)\n",
    "        return image_gray\n",
    "    def Captcha_preprocess(self):\n",
    "        image = self.cv2image()\n",
    "        im = cv2.resize(image, (260,60))\n",
    "        retval, im = cv2.threshold(im,120, 255, cv2.THRESH_BINARY_INV)\n",
    "        kernel = np.ones((3,3),np.uint8)\n",
    "        erosion = cv2.erode(im,kernel,iterations = 1)\n",
    "        blurred = cv2.GaussianBlur(erosion, (3, 3), 5)\n",
    "        cv2.imwrite(self.curpath+\"bkcapt.png\", blurred)\n",
    "        return 1\n",
    "        \n",
    "    def OCR(self):\n",
    "        return self.__constr(pytesseract.image_to_string(IM.open(self.curpath+'bkcapt.png')))\n",
    "    \n",
    "    def savecorimg(self, captcha):\n",
    "        if os.path.exists(self.curpath+'ocrcorrect/otcoir/%s.png'%captcha)== False:\n",
    "            os.rename(self.curpath+'ocrcorrect/otcoir/bkcapt.png',\n",
    "                      self.curpath+'ocrcorrect/otcoir/%s.png'%captcha)\n",
    "        elif os.path.exists(self.curpath+'ocrcorrect/otcoir/%s.png'%captcha)== True:\n",
    "            nonew = 1\n",
    "            npng = captcha+'_'+str(nonew)\n",
    "            while os.path.exists(self.curpath+'ocrcorrect/otcoir/%s.png'%npng)== True:\n",
    "                nonew +=1\n",
    "                npng = captcha+'_'+str(nonew)\n",
    "            if os.path.exists(self.curpath+'ocrcorrect/otcoir/%s.png'%npng)== False:\n",
    "                os.rename(self.curpath+'ocrcorrect/otcoir/bkcapt.png',\n",
    "                          self.curpath+'ocrcorrect/otcoir/%s.png'%npng)\n",
    "            \n",
    "    def postpayload(self,stockid,captcha,urltype):\n",
    "        payload = {\n",
    "            'stk_code': '%s'%str(stockid),\n",
    "            'auth_num':captcha\n",
    "        }\n",
    "        res = self.rs.post('http://www.tpex.org.tw/web/stock/aftertrading/broker_trading/brokerBS.php',data = payload)\n",
    "        res.encoding = 'utf-8'\n",
    "        soup = BS(res.text,\"lxml\")\n",
    "        self.answ = soup.select('.pt10')[0].text  \n",
    "        if self.answ == '\\n ***驗證碼錯誤，請重新查詢。*** \\n':\n",
    "            correctanswer = 0\n",
    "        elif self.answ == '\\n ***該股票該日無交易資訊*** \\n':\n",
    "            return 2\n",
    "        elif self.answ[0:7] == '\\n\\n\\n交易日期':\n",
    "            correctanswer = 1\n",
    "            self.savecorimg(captcha)\n",
    "            self.ind = pd.read_html(str(soup.select('.table-striped')[0]))[0]\n",
    "            self.dtda = re.sub('[^0-9]','/',self.ind[1][0]).split('/')[0:3]\n",
    "            stkd = ('').join(self.dtda)\n",
    "            urlbig5 = 'http://www.tpex.org.tw/web/stock/aftertrading/broker_trading/download_ALLCSV.php?curstk='\n",
    "            urlutf8 = 'http://www.tpex.org.tw/web/stock/aftertrading/broker_trading/download_ALLCSV_UTF-8.php?curstk='\n",
    "            if urltype == 5:\n",
    "                url = urlbig5+str(stockid)+'&stk_date='+stkd+'&auth='+captcha\n",
    "            elif urltype ==8:\n",
    "                url = urlutf8+str(stockid)+'&stk_date='+stkd+'&auth='+captcha\n",
    "            self.csvf = self.rs.get(url,stream=True, verify=False)\n",
    "        else:\n",
    "            correctanswer = 0\n",
    "        return correctanswer\n",
    "    \n",
    "    def processdata(self,stockid):\n",
    "        dat = date(int(self.dtda[0])+1911,int(self.dtda[1]),int(self.dtda[2]))\n",
    "        tda = int(self.ind[1][1])\n",
    "        ap = int(re.sub('[^0-9]','',self.ind[3][1]))\n",
    "        allshare = self.ind[5][1]\n",
    "        rt_ratio = self.ind[7][1]\n",
    "        op = float(self.ind[1][2])\n",
    "        hp = float(self.ind[3][2])\n",
    "        lp = float(self.ind[5][2])\n",
    "        cp = float(self.ind[7][2])\n",
    "        d = {\"日期\":dat,\n",
    "             \"代號\":stockid,\n",
    "             \"成交筆數\":tda,\n",
    "             \"總成交金額\":ap,\n",
    "             \"總成交股數\":allshare,\n",
    "             \"周轉率(%)\":rt_ratio,\n",
    "             \"開盤價\":op,\n",
    "             \"最高價\":hp,\n",
    "             \"最低價\":lp,\n",
    "             \"收盤價\":cp}\n",
    "        ind = pd.DataFrame(d, index=[1])\n",
    "        ind.index.name = '序號'\n",
    "        tablens = pd.read_csv(io.StringIO(self.csvf.text.split('證券代碼')[1][7:]),encoding='utf-8')\n",
    "        table00 = tablens[['序號','券商','價格','買進股數','賣出股數']]\n",
    "        table01 = tablens[['序號.1','券商.1','價格.1','買進股數.1','賣出股數.1']]\n",
    "        table00.columns = ['序號','證券商','成交單價','買進股數','賣出股數']\n",
    "        table01.columns = ['序號','證券商','成交單價','買進股數','賣出股數']\n",
    "        frame00 = [table00,table01]\n",
    "        table = pd.concat(frame00)\n",
    "        table = table.set_index('序號')\n",
    "        table = table.dropna()\n",
    "        table = table.sort_index()\n",
    "        table.index.name = '序'\n",
    "        table['買進股數'] = table['買進股數'].map(lambda x: getint(x))\n",
    "        table['賣出股數'] = table['賣出股數'].map(lambda x: getint(x))\n",
    "        table = table.join(ind)\n",
    "        table[[\"日期\",\"代號\",\"成交筆數\",\"總成交金額\",\"總成交股數\",\"周轉率(%)\",\"開盤價\",\"最高價\",\"最低價\",\"收盤價\"]] = table[[\"日期\",\"代號\",\"成交筆數\",\"總成交金額\",\"總成交股數\",\"周轉率(%)\",\"開盤價\",\"最高價\",\"最低價\",\"收盤價\"]].fillna(method='pad')\n",
    "        table = table[[\"日期\",\"代號\",\"成交筆數\",\"總成交金額\",\"總成交股數\",\"周轉率(%)\",\"開盤價\",\"最高價\",\"最低價\",\"收盤價\",\"證券商\",\"成交單價\",\"買進股數\",\"賣出股數\"]]\n",
    "        table['日期'] = pd.to_datetime(table['日期'])\n",
    "        filename = str(stockid)+\"_\"+('').join(str(dat).split('-'))\n",
    "        table.to_csv(self.curpath+'csv_data/stockdt/ori/%s.csv'%filename)\n",
    "        #######################################################################################\n",
    "        buyp = table.apply(lambda row: row['成交單價']*row['買進股數'],axis=1)\n",
    "        table.insert(13,'買進金額',buyp)\n",
    "        sellp = table.apply(lambda row: row['成交單價']*row['賣出股數'],axis=1)\n",
    "        table.insert(14,'賣出金額',sellp)\n",
    "        table_sort = table.groupby([\"日期\",\"代號\",\"成交筆數\",\"總成交金額\",\"總成交股數\",\"周轉率(%)\",\"開盤價\",\"最高價\",\"最低價\",\"收盤價\",\"證券商\"])[['買進股數','賣出股數','買進金額','賣出金額']].sum()\n",
    "        table_sort = table_sort.reset_index([\"成交筆數\",\"總成交金額\",\"總成交股數\",\"周轉率(%)\",\"開盤價\",\"最高價\",\"最低價\",\"收盤價\"])\n",
    "        table_sort = table_sort[['買進股數','賣出股數','買進金額','賣出金額',\"成交筆數\",\"總成交金額\",\"總成交股數\",\"周轉率(%)\",\"開盤價\",\"最高價\",\"最低價\",\"收盤價\"]]\n",
    "        b_avg_p = table_sort.apply(lambda row: divexpectz(row['買進金額'],row['買進股數']),axis=1)\n",
    "        s_avg_p = table_sort.apply(lambda row: divexpectz(row['賣出金額'],row['賣出股數']),axis=1)\n",
    "        b_ratio = table_sort.apply(lambda row: divexpectz(row['買進股數'],row['總成交股數'])*100,axis=1)\n",
    "        s_ratio = table_sort.apply(lambda row: divexpectz(row['賣出股數'],row['總成交股數'])*100,axis=1)\n",
    "        bs_share_net = table_sort.apply(lambda row: row['買進股數']-row['賣出股數'],axis=1)\n",
    "        bs_price_net = table_sort.apply(lambda row: row['買進金額']-row['賣出金額'],axis=1)\n",
    "        table_sort.insert(2,'買賣超股數',bs_share_net)\n",
    "        table_sort.insert(5,'買賣超金額',bs_price_net)\n",
    "        table_sort.insert(6,'買進均價',b_avg_p)\n",
    "        table_sort.insert(7,'賣出均價',s_avg_p)\n",
    "        table_sort.insert(8,'買進比重',b_ratio)\n",
    "        table_sort.insert(9,'賣出比重',s_ratio)\n",
    "        if os.path.exists(self.curpath+'csv_data/stockdt/sort/%s.csv'%str(stockid)) == False:\n",
    "            table_sort.to_csv(self.curpath+'csv_data/stockdt/sort/%s.csv'%str(stockid))\n",
    "        #after first time use\n",
    "        table_s = pd.read_csv(self.curpath+'csv_data/stockdt/sort/%s.csv'%str(stockid),encoding='utf-8',index_col=[0,1,2],parse_dates=[0])\n",
    "        if dat not in table_s.index.levels[0]:\n",
    "            frame = [table_sort,table_s]\n",
    "            table_s = pd.concat(frame)\n",
    "        table_s.to_csv(self.curpath+'csv_data/stockdt/sort/%s.csv'%str(stockid))\n",
    "    \n",
    "    def singleprocess(self,stockid):\n",
    "        anscor = 0\n",
    "        repostcount = 0\n",
    "        changeurltype = 0\n",
    "        filename = str(stockid)+\"_\"+('').join(str(self.datenow).split('-'))\n",
    "        if os.path.exists(self.curpath+'csv_data/stockdt/ori/%s.csv'%filename) == False:\n",
    "            while anscor == 0:\n",
    "                if changeurltype ==0:\n",
    "                    urltype = 5\n",
    "                elif changeurltype==1:\n",
    "                    urltype = 8\n",
    "                Capt = 0\n",
    "                while Capt ==0:\n",
    "                    try:\n",
    "                        Capt = self.Captcha_preprocess()\n",
    "                    except:\n",
    "                        pass\n",
    "                anscor = self.postpayload(stockid, self.OCR(),urltype)\n",
    "                returnstat(stockid,repostcount)\n",
    "                repostcount +=1\n",
    "                if anscor == 2:\n",
    "                    self.notradedata.append(stockid)\n",
    "                    break\n",
    "                if repostcount>150:\n",
    "                    repostcount = 150\n",
    "                    break\n",
    "                time.sleep(random.choice([2.8,3.2,3.8,4.1,4.7]))\n",
    "                while anscor == 1 and int(self.dtda[0])<85:\n",
    "                    anscor = self.postpayload(stockid, self.OCR(), urltype)\n",
    "                    time.sleep(random.choice([1.3,1.8,1.4,1.1,1.5]))\n",
    "                if anscor == 1 and int(self.dtda[0])>85:\n",
    "                    try:\n",
    "                        self.processdata(stockid)\n",
    "                        changeurltype = 0\n",
    "                    except:\n",
    "                        changeurltype = 1\n",
    "                        anscor = 0\n",
    "        if os.path.exists(self.curpath+'csv_data/stockdt/ori/%s.csv'%filename) == True:\n",
    "            repostcount = 100\n",
    "        return stockid,repostcount\n",
    "    \n",
    "    def processAll(self):\n",
    "        starttime = datetime.now()\n",
    "        stlen = len(self.stockidL)\n",
    "        self.arrcu = []\n",
    "        global MESSAGE\n",
    "        MESSAGE = ''\n",
    "        for i in range(stlen):\n",
    "            a = self.singleprocess(self.stockidL[i])\n",
    "            if a[1]==150:\n",
    "                a = self.singleprocess(self.stockidL[i])\n",
    "            ptime = datetime.now()\n",
    "            text = \"\\r上櫃 {0}/{1} 已完成 {2}%  處理時間: {3}\".format(i+1,stlen,round((i+1)/stlen,4)*100,str(ptime-starttime))\n",
    "            sys.stdout.write(text)\n",
    "            sys.stdout.flush()\n",
    "            #MESSAGE = \"上櫃 {0}/{1} 已完成 {2}%  處理時間: {3}\".format(i+1,stlen,round((i+1)/stlen,4)*100,str(ptime-starttime))\n",
    "            #Hangouts()\n",
    "            self.arrcu.append(a)\n",
    "            if self.arrcu[-1][1] == 0:\n",
    "                time.sleep(3)\n",
    "            if len(self.arrcu)>3 and self.arrcu[-1][1] == 0 and self.arrcu[-2][1] == 0 and self.arrcu[-3][1] == 0:\n",
    "                time.sleep(5)\n",
    "        endtime = datetime.now()\n",
    "        spendt = str(endtime - starttime)\n",
    "        MESSAGE = \"上櫃股票交易日報下載完成 \\n 花費時間:{0}\".format(spendt)\n",
    "        Hangouts()\n",
    "    \n",
    "    def checkunprocesslist(self):\n",
    "        datestr = ('').join(str(self.datenow).split('-'))+'.csv'\n",
    "        fprocessed = [int(i.split('_')[0]) for i in os.listdir('csv_data/stockdt/ori') if i.endswith(datestr)==True] + self.notradedata\n",
    "        self.unprocess = [i for i in self.stockidL if i not in fprocessed]\n",
    "        return round(len(self.unprocess)/len(self.stockidL),4)*100,len(self.unprocess),len(self.stockidL)\n",
    "  "
   ]
  },
  {
   "cell_type": "code",
   "execution_count": 7,
   "metadata": {
    "collapsed": false
   },
   "outputs": [],
   "source": [
    "BSr = TPEXBSreport()"
   ]
  },
  {
   "cell_type": "code",
   "execution_count": 8,
   "metadata": {
    "collapsed": false
   },
   "outputs": [
    {
     "data": {
      "text/plain": [
       "'VT89B'"
      ]
     },
     "execution_count": 8,
     "metadata": {},
     "output_type": "execute_result"
    }
   ],
   "source": [
    "BSr.OCR()"
   ]
  },
  {
   "cell_type": "code",
   "execution_count": 9,
   "metadata": {
    "collapsed": false
   },
   "outputs": [
    {
     "data": {
      "text/plain": [
       "(38.58, 277, 718)"
      ]
     },
     "execution_count": 9,
     "metadata": {},
     "output_type": "execute_result"
    }
   ],
   "source": [
    "BSr.checkunprocesslist()"
   ]
  },
  {
   "cell_type": "code",
   "execution_count": 14,
   "metadata": {
    "collapsed": false
   },
   "outputs": [
    {
     "data": {
      "text/plain": [
       "(35.099999999999994, 252, 718)"
      ]
     },
     "execution_count": 14,
     "metadata": {},
     "output_type": "execute_result"
    }
   ],
   "source": [
    "BSr.checkunprocesslist()"
   ]
  },
  {
   "cell_type": "code",
   "execution_count": 15,
   "metadata": {
    "collapsed": false
   },
   "outputs": [
    {
     "data": {
      "text/plain": [
       "[3332,\n",
       " 3434,\n",
       " 4907,\n",
       " 4950,\n",
       " 5603,\n",
       " 5604,\n",
       " 5609,\n",
       " 5701,\n",
       " 5703,\n",
       " 5704,\n",
       " 5820,\n",
       " 5878,\n",
       " 5902,\n",
       " 5903,\n",
       " 5904,\n",
       " 5905,\n",
       " 6015,\n",
       " 6016,\n",
       " 6020,\n",
       " 6021,\n",
       " 6022,\n",
       " 6023,\n",
       " 6024,\n",
       " 6026,\n",
       " 6101,\n",
       " 6104,\n",
       " 6105,\n",
       " 6107,\n",
       " 6109,\n",
       " 6111,\n",
       " 6113,\n",
       " 6114,\n",
       " 6118,\n",
       " 6121,\n",
       " 6122,\n",
       " 6123,\n",
       " 6124,\n",
       " 6125,\n",
       " 6126,\n",
       " 6127,\n",
       " 6129,\n",
       " 6130,\n",
       " 6134,\n",
       " 6138,\n",
       " 6140,\n",
       " 6143,\n",
       " 6144,\n",
       " 6146,\n",
       " 6147,\n",
       " 6148,\n",
       " 6150,\n",
       " 6151,\n",
       " 6154,\n",
       " 6156,\n",
       " 6158,\n",
       " 6160,\n",
       " 6161,\n",
       " 6163,\n",
       " 6167,\n",
       " 6169,\n",
       " 6170,\n",
       " 6171,\n",
       " 6173,\n",
       " 6174,\n",
       " 6175,\n",
       " 6179,\n",
       " 6180,\n",
       " 6182,\n",
       " 6185,\n",
       " 6186,\n",
       " 6187,\n",
       " 6188,\n",
       " 6190,\n",
       " 6194,\n",
       " 6195,\n",
       " 6198,\n",
       " 6203,\n",
       " 6204,\n",
       " 6207,\n",
       " 6208,\n",
       " 6210,\n",
       " 6212,\n",
       " 6217,\n",
       " 6218,\n",
       " 6219,\n",
       " 6220,\n",
       " 6221,\n",
       " 6223,\n",
       " 6227,\n",
       " 6228,\n",
       " 6229,\n",
       " 6231,\n",
       " 6233,\n",
       " 6234,\n",
       " 6237,\n",
       " 6238,\n",
       " 6241,\n",
       " 6244,\n",
       " 6245,\n",
       " 6246,\n",
       " 6247,\n",
       " 6248,\n",
       " 6259,\n",
       " 6261,\n",
       " 6263,\n",
       " 6264,\n",
       " 6265,\n",
       " 6266,\n",
       " 6270,\n",
       " 6274,\n",
       " 6275,\n",
       " 6276,\n",
       " 6279,\n",
       " 6284,\n",
       " 6287,\n",
       " 6290,\n",
       " 6291,\n",
       " 6292,\n",
       " 6294,\n",
       " 6298,\n",
       " 6404,\n",
       " 6411,\n",
       " 6417,\n",
       " 6419,\n",
       " 6432,\n",
       " 6435,\n",
       " 6457,\n",
       " 6462,\n",
       " 6465,\n",
       " 6470,\n",
       " 6485,\n",
       " 6488,\n",
       " 6496,\n",
       " 6506,\n",
       " 6508,\n",
       " 6509,\n",
       " 6514,\n",
       " 6603,\n",
       " 6609,\n",
       " 6803,\n",
       " 7402,\n",
       " 8024,\n",
       " 8027,\n",
       " 8032,\n",
       " 8034,\n",
       " 8038,\n",
       " 8040,\n",
       " 8042,\n",
       " 8043,\n",
       " 8044,\n",
       " 8047,\n",
       " 8048,\n",
       " 8049,\n",
       " 8050,\n",
       " 8054,\n",
       " 8059,\n",
       " 8064,\n",
       " 8066,\n",
       " 8067,\n",
       " 8068,\n",
       " 8069,\n",
       " 8071,\n",
       " 8074,\n",
       " 8076,\n",
       " 8077,\n",
       " 8079,\n",
       " 8080,\n",
       " 8082,\n",
       " 8083,\n",
       " 8084,\n",
       " 8085,\n",
       " 8086,\n",
       " 8087,\n",
       " 8088,\n",
       " 8091,\n",
       " 8092,\n",
       " 8093,\n",
       " 8096,\n",
       " 8097,\n",
       " 8099,\n",
       " 8107,\n",
       " 8109,\n",
       " 8111,\n",
       " 8121,\n",
       " 8147,\n",
       " 8155,\n",
       " 8171,\n",
       " 8176,\n",
       " 8182,\n",
       " 8183,\n",
       " 8234,\n",
       " 8240,\n",
       " 8255,\n",
       " 8266,\n",
       " 8277,\n",
       " 8287,\n",
       " 8289,\n",
       " 8291,\n",
       " 8299,\n",
       " 8349,\n",
       " 8354,\n",
       " 8358,\n",
       " 8383,\n",
       " 8390,\n",
       " 8401,\n",
       " 8403,\n",
       " 8406,\n",
       " 8409,\n",
       " 8410,\n",
       " 8416,\n",
       " 8418,\n",
       " 8420,\n",
       " 8421,\n",
       " 8424,\n",
       " 8426,\n",
       " 8431,\n",
       " 8432,\n",
       " 8433,\n",
       " 8435,\n",
       " 8436,\n",
       " 8437,\n",
       " 8444,\n",
       " 8446,\n",
       " 8450,\n",
       " 8455,\n",
       " 8472,\n",
       " 8905,\n",
       " 8906,\n",
       " 8908,\n",
       " 8913,\n",
       " 8916,\n",
       " 8923,\n",
       " 8924,\n",
       " 8927,\n",
       " 8928,\n",
       " 8929,\n",
       " 8930,\n",
       " 8931,\n",
       " 8932,\n",
       " 8933,\n",
       " 8934,\n",
       " 8935,\n",
       " 8936,\n",
       " 8937,\n",
       " 8938,\n",
       " 8941,\n",
       " 8942,\n",
       " 9949,\n",
       " 9950,\n",
       " 9951,\n",
       " 9960,\n",
       " 9962]"
      ]
     },
     "execution_count": 15,
     "metadata": {},
     "output_type": "execute_result"
    }
   ],
   "source": [
    "BSr.unprocess"
   ]
  },
  {
   "cell_type": "code",
   "execution_count": 7,
   "metadata": {
    "collapsed": true
   },
   "outputs": [],
   "source": [
    "stockid = 3658"
   ]
  },
  {
   "cell_type": "code",
   "execution_count": 13,
   "metadata": {
    "collapsed": true
   },
   "outputs": [],
   "source": [
    "stockid = 6250"
   ]
  },
  {
   "cell_type": "code",
   "execution_count": 14,
   "metadata": {
    "collapsed": false
   },
   "outputs": [
    {
     "name": "stdout",
     "output_type": "stream",
     "text": [
      "\r",
      " 6250重新取得驗證碼次數:0"
     ]
    },
    {
     "data": {
      "text/plain": [
       "(6250, 1)"
      ]
     },
     "execution_count": 14,
     "metadata": {},
     "output_type": "execute_result"
    }
   ],
   "source": [
    "BSr.singleprocess(stockid)"
   ]
  },
  {
   "cell_type": "code",
   "execution_count": 12,
   "metadata": {
    "collapsed": false
   },
   "outputs": [
    {
     "name": "stdout",
     "output_type": "stream",
     "text": [
      "上櫃 718/718 已完成 100.0%  處理時間: 0:20:58.669133"
     ]
    }
   ],
   "source": [
    "BSr.processAll()"
   ]
  },
  {
   "cell_type": "code",
   "execution_count": 18,
   "metadata": {
    "collapsed": false
   },
   "outputs": [
    {
     "data": {
      "text/plain": [
       "'券商買賣證券成交價量資訊\\r\\n證券代碼,8349\\r\\n序號,券商,價格,買進股數,賣出股數,,序號,券商,價格,買進股數,賣出股數\\r\\n\"1\",\"1034  土銀嘉義\",\"79.00\",\"0\",\"1,000\",,\"2\",\"126D  宏遠台南\",\"79.20\",\"1,000\",\"0\"\\r\\n\"3\",\"585Z  統一松江\",\"78.90\",\"1,000\",\"0\",,\"4\",\"585Z  統一松江\",\"79.10\",\"1,000\",\"0\"\\r\\n\"5\",\"585Z  統一松江\",\"79.20\",\"1,000\",\"0\",,\"6\",\"585Z  統一松江\",\"79.30\",\"1,000\",\"0\"\\r\\n\"7\",\"585Z  統一松江\",\"79.40\",\"1,000\",\"0\",,\"8\",\"585Z  統一松江\",\"79.50\",\"1,000\",\"0\"\\r\\n\"9\",\"6163  中信託永康\",\"80.00\",\"0\",\"1,000\",,\"10\",\"6950  福勝\",\"79.00\",\"10,000\",\"0\"\\r\\n\"11\",\"700I  兆豐北高雄\",\"80.00\",\"0\",\"1,000\",,\"12\",\"703A  致和日陞\",\"80.00\",\"2,000\",\"0\"\\r\\n\"13\",\"779c  國票敦北\",\"79.10\",\"2,000\",\"0\",,\"14\",\"815A  台新高雄\",\"79.40\",\"0\",\"1,000\"\\r\\n\"15\",\"8458  康和台南\",\"79.10\",\"0\",\"1,000\",,\"16\",\"8561  新光台中\",\"79.10\",\"2,000\",\"0\"\\r\\n\"17\",\"8847  玉山台南\",\"79.00\",\"6,000\",\"0\",,\"18\",\"8849  玉山台大\",\"78.90\",\"0\",\"1,000\"\\r\\n\"19\",\"9300  華南永昌\",\"79.00\",\"0\",\"3,000\",,\"20\",\"9300  華南永昌\",\"79.10\",\"0\",\"2,000\"\\r\\n\"21\",\"9300  華南永昌\",\"79.50\",\"0\",\"1,000\",,\"22\",\"9321  永昌佳里\",\"79.00\",\"0\",\"11,000\"\\r\\n\"23\",\"9321  永昌佳里\",\"79.10\",\"0\",\"2,000\",,\"24\",\"9321  永昌佳里\",\"79.20\",\"0\",\"2,000\"\\r\\n\"25\",\"9321  永昌佳里\",\"79.30\",\"0\",\"1,000\",,\"26\",\"9888  元大鑫永和\",\"79.00\",\"0\",\"1,000\"\\r\\n'"
      ]
     },
     "execution_count": 18,
     "metadata": {},
     "output_type": "execute_result"
    }
   ],
   "source": [
    "BSr.csvf.text"
   ]
  },
  {
   "cell_type": "code",
   "execution_count": 17,
   "metadata": {
    "collapsed": false
   },
   "outputs": [
    {
     "data": {
      "text/html": [
       "<div>\n",
       "<table border=\"1\" class=\"dataframe\">\n",
       "  <thead>\n",
       "    <tr style=\"text-align: right;\">\n",
       "      <th></th>\n",
       "      <th>序號</th>\n",
       "      <th>券商</th>\n",
       "      <th>價格</th>\n",
       "      <th>買進股數</th>\n",
       "      <th>賣出股數</th>\n",
       "      <th>Unnamed: 5</th>\n",
       "      <th>序號.1</th>\n",
       "      <th>券商.1</th>\n",
       "      <th>價格.1</th>\n",
       "      <th>買進股數.1</th>\n",
       "      <th>賣出股數.1</th>\n",
       "    </tr>\n",
       "  </thead>\n",
       "  <tbody>\n",
       "    <tr>\n",
       "      <th>0</th>\n",
       "      <td>1</td>\n",
       "      <td>1034  土銀嘉義</td>\n",
       "      <td>79.0</td>\n",
       "      <td>0</td>\n",
       "      <td>1,000</td>\n",
       "      <td>NaN</td>\n",
       "      <td>2</td>\n",
       "      <td>126D  宏遠台南</td>\n",
       "      <td>79.2</td>\n",
       "      <td>1,000</td>\n",
       "      <td>0</td>\n",
       "    </tr>\n",
       "    <tr>\n",
       "      <th>1</th>\n",
       "      <td>3</td>\n",
       "      <td>585Z  統一松江</td>\n",
       "      <td>78.9</td>\n",
       "      <td>1,000</td>\n",
       "      <td>0</td>\n",
       "      <td>NaN</td>\n",
       "      <td>4</td>\n",
       "      <td>585Z  統一松江</td>\n",
       "      <td>79.1</td>\n",
       "      <td>1,000</td>\n",
       "      <td>0</td>\n",
       "    </tr>\n",
       "    <tr>\n",
       "      <th>2</th>\n",
       "      <td>5</td>\n",
       "      <td>585Z  統一松江</td>\n",
       "      <td>79.2</td>\n",
       "      <td>1,000</td>\n",
       "      <td>0</td>\n",
       "      <td>NaN</td>\n",
       "      <td>6</td>\n",
       "      <td>585Z  統一松江</td>\n",
       "      <td>79.3</td>\n",
       "      <td>1,000</td>\n",
       "      <td>0</td>\n",
       "    </tr>\n",
       "    <tr>\n",
       "      <th>3</th>\n",
       "      <td>7</td>\n",
       "      <td>585Z  統一松江</td>\n",
       "      <td>79.4</td>\n",
       "      <td>1,000</td>\n",
       "      <td>0</td>\n",
       "      <td>NaN</td>\n",
       "      <td>8</td>\n",
       "      <td>585Z  統一松江</td>\n",
       "      <td>79.5</td>\n",
       "      <td>1,000</td>\n",
       "      <td>0</td>\n",
       "    </tr>\n",
       "    <tr>\n",
       "      <th>4</th>\n",
       "      <td>9</td>\n",
       "      <td>6163  中信託永康</td>\n",
       "      <td>80.0</td>\n",
       "      <td>0</td>\n",
       "      <td>1,000</td>\n",
       "      <td>NaN</td>\n",
       "      <td>10</td>\n",
       "      <td>6950  福勝</td>\n",
       "      <td>79.0</td>\n",
       "      <td>10,000</td>\n",
       "      <td>0</td>\n",
       "    </tr>\n",
       "    <tr>\n",
       "      <th>5</th>\n",
       "      <td>11</td>\n",
       "      <td>700I  兆豐北高雄</td>\n",
       "      <td>80.0</td>\n",
       "      <td>0</td>\n",
       "      <td>1,000</td>\n",
       "      <td>NaN</td>\n",
       "      <td>12</td>\n",
       "      <td>703A  致和日陞</td>\n",
       "      <td>80.0</td>\n",
       "      <td>2,000</td>\n",
       "      <td>0</td>\n",
       "    </tr>\n",
       "    <tr>\n",
       "      <th>6</th>\n",
       "      <td>13</td>\n",
       "      <td>779c  國票敦北</td>\n",
       "      <td>79.1</td>\n",
       "      <td>2,000</td>\n",
       "      <td>0</td>\n",
       "      <td>NaN</td>\n",
       "      <td>14</td>\n",
       "      <td>815A  台新高雄</td>\n",
       "      <td>79.4</td>\n",
       "      <td>0</td>\n",
       "      <td>1,000</td>\n",
       "    </tr>\n",
       "    <tr>\n",
       "      <th>7</th>\n",
       "      <td>15</td>\n",
       "      <td>8458  康和台南</td>\n",
       "      <td>79.1</td>\n",
       "      <td>0</td>\n",
       "      <td>1,000</td>\n",
       "      <td>NaN</td>\n",
       "      <td>16</td>\n",
       "      <td>8561  新光台中</td>\n",
       "      <td>79.1</td>\n",
       "      <td>2,000</td>\n",
       "      <td>0</td>\n",
       "    </tr>\n",
       "    <tr>\n",
       "      <th>8</th>\n",
       "      <td>17</td>\n",
       "      <td>8847  玉山台南</td>\n",
       "      <td>79.0</td>\n",
       "      <td>6,000</td>\n",
       "      <td>0</td>\n",
       "      <td>NaN</td>\n",
       "      <td>18</td>\n",
       "      <td>8849  玉山台大</td>\n",
       "      <td>78.9</td>\n",
       "      <td>0</td>\n",
       "      <td>1,000</td>\n",
       "    </tr>\n",
       "    <tr>\n",
       "      <th>9</th>\n",
       "      <td>19</td>\n",
       "      <td>9300  華南永昌</td>\n",
       "      <td>79.0</td>\n",
       "      <td>0</td>\n",
       "      <td>3,000</td>\n",
       "      <td>NaN</td>\n",
       "      <td>20</td>\n",
       "      <td>9300  華南永昌</td>\n",
       "      <td>79.1</td>\n",
       "      <td>0</td>\n",
       "      <td>2,000</td>\n",
       "    </tr>\n",
       "    <tr>\n",
       "      <th>10</th>\n",
       "      <td>21</td>\n",
       "      <td>9300  華南永昌</td>\n",
       "      <td>79.5</td>\n",
       "      <td>0</td>\n",
       "      <td>1,000</td>\n",
       "      <td>NaN</td>\n",
       "      <td>22</td>\n",
       "      <td>9321  永昌佳里</td>\n",
       "      <td>79.0</td>\n",
       "      <td>0</td>\n",
       "      <td>11,000</td>\n",
       "    </tr>\n",
       "    <tr>\n",
       "      <th>11</th>\n",
       "      <td>23</td>\n",
       "      <td>9321  永昌佳里</td>\n",
       "      <td>79.1</td>\n",
       "      <td>0</td>\n",
       "      <td>2,000</td>\n",
       "      <td>NaN</td>\n",
       "      <td>24</td>\n",
       "      <td>9321  永昌佳里</td>\n",
       "      <td>79.2</td>\n",
       "      <td>0</td>\n",
       "      <td>2,000</td>\n",
       "    </tr>\n",
       "    <tr>\n",
       "      <th>12</th>\n",
       "      <td>25</td>\n",
       "      <td>9321  永昌佳里</td>\n",
       "      <td>79.3</td>\n",
       "      <td>0</td>\n",
       "      <td>1,000</td>\n",
       "      <td>NaN</td>\n",
       "      <td>26</td>\n",
       "      <td>9888  元大鑫永和</td>\n",
       "      <td>79.0</td>\n",
       "      <td>0</td>\n",
       "      <td>1,000</td>\n",
       "    </tr>\n",
       "  </tbody>\n",
       "</table>\n",
       "</div>"
      ],
      "text/plain": [
       "    序號           券商    價格   買進股數   賣出股數  Unnamed: 5  序號.1         券商.1  價格.1  \\\n",
       "0    1   1034  土銀嘉義  79.0      0  1,000         NaN     2   126D  宏遠台南  79.2   \n",
       "1    3   585Z  統一松江  78.9  1,000      0         NaN     4   585Z  統一松江  79.1   \n",
       "2    5   585Z  統一松江  79.2  1,000      0         NaN     6   585Z  統一松江  79.3   \n",
       "3    7   585Z  統一松江  79.4  1,000      0         NaN     8   585Z  統一松江  79.5   \n",
       "4    9  6163  中信託永康  80.0      0  1,000         NaN    10     6950  福勝  79.0   \n",
       "5   11  700I  兆豐北高雄  80.0      0  1,000         NaN    12   703A  致和日陞  80.0   \n",
       "6   13   779c  國票敦北  79.1  2,000      0         NaN    14   815A  台新高雄  79.4   \n",
       "7   15   8458  康和台南  79.1      0  1,000         NaN    16   8561  新光台中  79.1   \n",
       "8   17   8847  玉山台南  79.0  6,000      0         NaN    18   8849  玉山台大  78.9   \n",
       "9   19   9300  華南永昌  79.0      0  3,000         NaN    20   9300  華南永昌  79.1   \n",
       "10  21   9300  華南永昌  79.5      0  1,000         NaN    22   9321  永昌佳里  79.0   \n",
       "11  23   9321  永昌佳里  79.1      0  2,000         NaN    24   9321  永昌佳里  79.2   \n",
       "12  25   9321  永昌佳里  79.3      0  1,000         NaN    26  9888  元大鑫永和  79.0   \n",
       "\n",
       "    買進股數.1  賣出股數.1  \n",
       "0    1,000       0  \n",
       "1    1,000       0  \n",
       "2    1,000       0  \n",
       "3    1,000       0  \n",
       "4   10,000       0  \n",
       "5    2,000       0  \n",
       "6        0   1,000  \n",
       "7    2,000       0  \n",
       "8        0   1,000  \n",
       "9        0   2,000  \n",
       "10       0  11,000  \n",
       "11       0   2,000  \n",
       "12       0   1,000  "
      ]
     },
     "execution_count": 17,
     "metadata": {},
     "output_type": "execute_result"
    }
   ],
   "source": [
    "pd.read_csv(io.StringIO(BSr.csvf.text.split('證券代碼')[1][7:]),encoding='utf-8')"
   ]
  },
  {
   "cell_type": "code",
   "execution_count": 10,
   "metadata": {
    "collapsed": true
   },
   "outputs": [],
   "source": [
    "rs = requests.session()\n",
    "captc = rs.get('http://www.tpex.org.tw/web/inc/authnum.php',stream=True, verify=False)"
   ]
  },
  {
   "cell_type": "code",
   "execution_count": 11,
   "metadata": {
    "collapsed": false
   },
   "outputs": [
    {
     "data": {
      "text/plain": [
       "'<Response [200]>'"
      ]
     },
     "execution_count": 11,
     "metadata": {},
     "output_type": "execute_result"
    }
   ],
   "source": [
    "str(captc)"
   ]
  },
  {
   "cell_type": "code",
   "execution_count": 12,
   "metadata": {
    "collapsed": false
   },
   "outputs": [
    {
     "data": {
      "text/plain": [
       "<Response [200]>"
      ]
     },
     "execution_count": 12,
     "metadata": {},
     "output_type": "execute_result"
    }
   ],
   "source": [
    "captc"
   ]
  },
  {
   "cell_type": "code",
   "execution_count": 124,
   "metadata": {
    "collapsed": false
   },
   "outputs": [
    {
     "data": {
      "text/plain": [
       "'1565_20160408'"
      ]
     },
     "execution_count": 124,
     "metadata": {},
     "output_type": "execute_result"
    }
   ],
   "source": [
    "str(stockid)+\"_\"+('').join(str(BSr.datenow).split('-'))"
   ]
  },
  {
   "cell_type": "code",
   "execution_count": 16,
   "metadata": {
    "collapsed": false
   },
   "outputs": [
    {
     "data": {
      "image/png": "[encoded data removed]",
      "text/plain": [
       "<PIL.PngImagePlugin.PngImageFile image mode=RGB size=130x30 at 0x7F2C2B76D0B8>"
      ]
     },
     "execution_count": 16,
     "metadata": {},
     "output_type": "execute_result"
    }
   ],
   "source": [
    "IM.open('ocrcorrect/otcoir/GKZNE.png')"
   ]
  },
  {
   "cell_type": "code",
   "execution_count": 15,
   "metadata": {
    "collapsed": false
   },
   "outputs": [
    {
     "data": {
      "text/plain": [
       "19790"
      ]
     },
     "execution_count": 15,
     "metadata": {},
     "output_type": "execute_result"
    }
   ],
   "source": [
    "len(os.listdir('ocrcorrect/otcoir/'))"
   ]
  },
  {
   "cell_type": "code",
   "execution_count": 14,
   "metadata": {
    "collapsed": false
   },
   "outputs": [
    {
     "data": {
      "text/plain": [
       "3996"
      ]
     },
     "execution_count": 14,
     "metadata": {},
     "output_type": "execute_result"
    }
   ],
   "source": [
    "os.listdir('ocrcorrect/otcoir/').index('GKZNE.png')"
   ]
  },
  {
   "cell_type": "code",
   "execution_count": null,
   "metadata": {
    "collapsed": true
   },
   "outputs": [],
   "source": [
    "#加在最後整個 check流程中if int(self.dtda[0])<85:"
   ]
  },
  {
   "cell_type": "code",
   "execution_count": 79,
   "metadata": {
    "collapsed": false
   },
   "outputs": [
    {
     "data": {
      "text/plain": [
       "datetime.date(2016, 4, 8)"
      ]
     },
     "execution_count": 79,
     "metadata": {},
     "output_type": "execute_result"
    }
   ],
   "source": [
    "d = datetime.now()\n",
    "if d.hour<16:\n",
    "    d = d.date() - timedelta(1)\n",
    "if d.isoweekday() == 7:\n",
    "    d = d.date() - timedelta(2)\n",
    "elif d.isoweekday() == 6:\n",
    "    d = d.date()-timedelta(1)\n",
    "d"
   ]
  },
  {
   "cell_type": "code",
   "execution_count": 95,
   "metadata": {
    "collapsed": false
   },
   "outputs": [],
   "source": [
    "BSr = BSreport()"
   ]
  },
  {
   "cell_type": "code",
   "execution_count": 43,
   "metadata": {
    "collapsed": false
   },
   "outputs": [
    {
     "data": {
      "text/plain": [
       "array([[204, 204, 204, ..., 204, 204, 204],\n",
       "       [204, 204, 204, ..., 204, 204, 204],\n",
       "       [204, 204, 185, ..., 204, 204, 204],\n",
       "       ..., \n",
       "       [204, 204, 204, ..., 204, 204, 204],\n",
       "       [204, 204, 204, ..., 204, 204, 204],\n",
       "       [204, 204, 204, ..., 204, 204, 204]], dtype=uint8)"
      ]
     },
     "execution_count": 43,
     "metadata": {},
     "output_type": "execute_result"
    },
    {
     "data": {
      "image/png": "[encoded data removed]",
      "text/plain": [
       "<matplotlib.figure.Figure at 0x7fd9027e9dd8>"
      ]
     },
     "metadata": {},
     "output_type": "display_data"
    }
   ],
   "source": [
    "BSr.cv2image()"
   ]
  },
  {
   "cell_type": "code",
   "execution_count": 98,
   "metadata": {
    "collapsed": false
   },
   "outputs": [
    {
     "data": {
      "image/png": "[encoded data removed]",
      "text/plain": [
       "<matplotlib.figure.Figure at 0x7f1874ce4ef0>"
      ]
     },
     "metadata": {},
     "output_type": "display_data"
    }
   ],
   "source": [
    "BSr.Captcha_preprocess()"
   ]
  },
  {
   "cell_type": "code",
   "execution_count": 109,
   "metadata": {
    "collapsed": false
   },
   "outputs": [
    {
     "data": {
      "text/plain": [
       "1"
      ]
     },
     "execution_count": 109,
     "metadata": {},
     "output_type": "execute_result"
    }
   ],
   "source": [
    "BSr.postpayload(1565,'M9FS1')"
   ]
  },
  {
   "cell_type": "code",
   "execution_count": null,
   "metadata": {
    "collapsed": true
   },
   "outputs": [],
   "source": [
    "stockidt = pd.read_csv('csv_data/listcompanyo.csv',encoding='utf-8')\n",
    "stockidL = stockidt['股票代號'].tolist()\n",
    "fprocessed = [i.split('_')[0] for i in os.listdir('csv_data/stockdt/ori') if i.endswith('20160408.csv')==True]\n",
    "unprocess = [i for i in stockidL if str(i) not in fprocessed]"
   ]
  },
  {
   "cell_type": "code",
   "execution_count": 100,
   "metadata": {
    "collapsed": false
   },
   "outputs": [
    {
     "data": {
      "text/plain": [
       "'\\n\\n\\n交易日期\\n0年02月67日\\n證券代號\\n1565\\xa0精華\"\\n1050408\"\\n\\n\\n成交筆數\\n179,399,985\\n成交金額\\n270,095&nbsp元\\n成交股數\\n1\\n週轉率(%)\\n652\\n\\n\\n開盤價\\n671.00\\n最高價\\n651.00  \\n最低價\\n666.00\\n收盤價\\n102.00\\n\\n\\n'"
      ]
     },
     "execution_count": 100,
     "metadata": {},
     "output_type": "execute_result"
    }
   ],
   "source": [
    "BSr.answ"
   ]
  },
  {
   "cell_type": "code",
   "execution_count": 110,
   "metadata": {
    "collapsed": false
   },
   "outputs": [
    {
     "data": {
      "text/html": [
       "<div>\n",
       "<table border=\"1\" class=\"dataframe\">\n",
       "  <thead>\n",
       "    <tr style=\"text-align: right;\">\n",
       "      <th></th>\n",
       "      <th>0</th>\n",
       "      <th>1</th>\n",
       "      <th>2</th>\n",
       "      <th>3</th>\n",
       "      <th>4</th>\n",
       "      <th>5</th>\n",
       "      <th>6</th>\n",
       "      <th>7</th>\n",
       "    </tr>\n",
       "  </thead>\n",
       "  <tbody>\n",
       "    <tr>\n",
       "      <th>0</th>\n",
       "      <td>交易日期</td>\n",
       "      <td>0年02月67日</td>\n",
       "      <td>證券代號</td>\n",
       "      <td>1565 精華\" 1050408\"</td>\n",
       "      <td>NaN</td>\n",
       "      <td>NaN</td>\n",
       "      <td>NaN</td>\n",
       "      <td>NaN</td>\n",
       "    </tr>\n",
       "    <tr>\n",
       "      <th>1</th>\n",
       "      <td>成交筆數</td>\n",
       "      <td>179399985</td>\n",
       "      <td>成交金額</td>\n",
       "      <td>270,095&amp;nbsp元</td>\n",
       "      <td>成交股數</td>\n",
       "      <td>1.0</td>\n",
       "      <td>週轉率(%)</td>\n",
       "      <td>652.0</td>\n",
       "    </tr>\n",
       "    <tr>\n",
       "      <th>2</th>\n",
       "      <td>開盤價</td>\n",
       "      <td>671.00</td>\n",
       "      <td>最高價</td>\n",
       "      <td>651.00</td>\n",
       "      <td>最低價</td>\n",
       "      <td>666.0</td>\n",
       "      <td>收盤價</td>\n",
       "      <td>102.0</td>\n",
       "    </tr>\n",
       "  </tbody>\n",
       "</table>\n",
       "</div>"
      ],
      "text/plain": [
       "      0          1     2                  3     4      5       6      7\n",
       "0  交易日期   0年02月67日  證券代號  1565 精華\" 1050408\"   NaN    NaN     NaN    NaN\n",
       "1  成交筆數  179399985  成交金額      270,095&nbsp元  成交股數    1.0  週轉率(%)  652.0\n",
       "2   開盤價     671.00   最高價             651.00   最低價  666.0     收盤價  102.0"
      ]
     },
     "execution_count": 110,
     "metadata": {},
     "output_type": "execute_result"
    }
   ],
   "source": [
    "BSr.ind"
   ]
  },
  {
   "cell_type": "code",
   "execution_count": 105,
   "metadata": {
    "collapsed": false
   },
   "outputs": [
    {
     "data": {
      "text/html": [
       "<div>\n",
       "<table border=\"1\" class=\"dataframe\">\n",
       "  <thead>\n",
       "    <tr style=\"text-align: right;\">\n",
       "      <th></th>\n",
       "      <th>0</th>\n",
       "      <th>1</th>\n",
       "      <th>2</th>\n",
       "      <th>3</th>\n",
       "      <th>4</th>\n",
       "      <th>5</th>\n",
       "      <th>6</th>\n",
       "      <th>7</th>\n",
       "    </tr>\n",
       "  </thead>\n",
       "  <tbody>\n",
       "    <tr>\n",
       "      <th>0</th>\n",
       "      <td>交易日期</td>\n",
       "      <td>105年04月08日</td>\n",
       "      <td>證券代號</td>\n",
       "      <td>1565 精華</td>\n",
       "      <td>NaN</td>\n",
       "      <td>NaN</td>\n",
       "      <td>NaN</td>\n",
       "      <td>NaN</td>\n",
       "    </tr>\n",
       "    <tr>\n",
       "      <th>1</th>\n",
       "      <td>成交筆數</td>\n",
       "      <td>267</td>\n",
       "      <td>成交金額</td>\n",
       "      <td>179,399,985&amp;nbsp元</td>\n",
       "      <td>成交股數</td>\n",
       "      <td>270095.0</td>\n",
       "      <td>週轉率(%)</td>\n",
       "      <td>0.53</td>\n",
       "    </tr>\n",
       "    <tr>\n",
       "      <th>2</th>\n",
       "      <td>開盤價</td>\n",
       "      <td>652.00</td>\n",
       "      <td>最高價</td>\n",
       "      <td>671.00</td>\n",
       "      <td>最低價</td>\n",
       "      <td>651.0</td>\n",
       "      <td>收盤價</td>\n",
       "      <td>666.00</td>\n",
       "    </tr>\n",
       "  </tbody>\n",
       "</table>\n",
       "</div>"
      ],
      "text/plain": [
       "      0           1     2                  3     4         5       6       7\n",
       "0  交易日期  105年04月08日  證券代號            1565 精華   NaN       NaN     NaN     NaN\n",
       "1  成交筆數         267  成交金額  179,399,985&nbsp元  成交股數  270095.0  週轉率(%)    0.53\n",
       "2   開盤價      652.00   最高價             671.00   最低價     651.0     收盤價  666.00"
      ]
     },
     "execution_count": 105,
     "metadata": {},
     "output_type": "execute_result"
    }
   ],
   "source": [
    "BSr.ind"
   ]
  },
  {
   "cell_type": "code",
   "execution_count": 113,
   "metadata": {
    "collapsed": false
   },
   "outputs": [
    {
     "data": {
      "text/plain": [
       "'0年02月67日'"
      ]
     },
     "execution_count": 113,
     "metadata": {},
     "output_type": "execute_result"
    }
   ],
   "source": [
    "BSr.ind[1][0]"
   ]
  },
  {
   "cell_type": "code",
   "execution_count": 116,
   "metadata": {
    "collapsed": false
   },
   "outputs": [
    {
     "data": {
      "text/plain": [
       "0"
      ]
     },
     "execution_count": 116,
     "metadata": {},
     "output_type": "execute_result"
    }
   ],
   "source": [
    "int(re.sub('[^0-9]','/',BSr.ind[1][0]).split('/')[0:3][0])"
   ]
  },
  {
   "cell_type": "code",
   "execution_count": null,
   "metadata": {
    "collapsed": true
   },
   "outputs": [],
   "source": [
    "#檢查版面有沒有跑掉兩種條件想法1.len(self.ind[3][0]) >10 2. 交易日期第一個小於80"
   ]
  },
  {
   "cell_type": "code",
   "execution_count": 112,
   "metadata": {
    "collapsed": false
   },
   "outputs": [
    {
     "data": {
      "text/plain": [
       "17"
      ]
     },
     "execution_count": 112,
     "metadata": {},
     "output_type": "execute_result"
    }
   ],
   "source": [
    "len(BSr.ind[3][0])"
   ]
  },
  {
   "cell_type": "code",
   "execution_count": 89,
   "metadata": {
    "collapsed": false
   },
   "outputs": [
    {
     "data": {
      "text/plain": [
       "270095"
      ]
     },
     "execution_count": 89,
     "metadata": {},
     "output_type": "execute_result"
    }
   ],
   "source": [
    "int(re.sub('[^0-9]','',BSr.ind[3][1]))"
   ]
  },
  {
   "cell_type": "code",
   "execution_count": 18,
   "metadata": {
    "collapsed": false
   },
   "outputs": [
    {
     "data": {
      "text/plain": [
       "'ㄩ坝�R芥靡ㄩΘユ基�q戈�T\\r\\n靡ㄩ�N�X,8349\\r\\n�歉�,ㄩ坝,基��,�R�i�鸭�,芥�X�鸭�,,�歉�,ㄩ坝,基��,�R�i�鸭�,芥�X�鸭�\\r\\n\"1\",\"1034  �g蝗古�q\",\"79.00\",\"0\",\"1,000\",,\"2\",\"126D  Щ环�x�n\",\"79.20\",\"1,000\",\"0\"\\r\\n\"3\",\"585Z  参�@�Q��\",\"78.90\",\"1,000\",\"0\",,\"4\",\"585Z  参�@�Q��\",\"79.10\",\"1,000\",\"0\"\\r\\n\"5\",\"585Z  参�@�Q��\",\"79.20\",\"1,000\",\"0\",,\"6\",\"585Z  参�@�Q��\",\"79.30\",\"1,000\",\"0\"\\r\\n\"7\",\"585Z  参�@�Q��\",\"79.40\",\"1,000\",\"0\",,\"8\",\"585Z  参�@�Q��\",\"79.50\",\"1,000\",\"0\"\\r\\n\"9\",\"6163  い�H�Uッ�d\",\"80.00\",\"0\",\"1,000\",,\"10\",\"6950  褐秤\",\"79.00\",\"10,000\",\"0\"\\r\\n\"11\",\"700I  ��伦�_蔼动\",\"80.00\",\"0\",\"1,000\",,\"12\",\"703A  �P�Mら哎\",\"80.00\",\"2,000\",\"0\"\\r\\n\"13\",\"779c  瓣布窗�_\",\"79.10\",\"2,000\",\"0\",,\"14\",\"815A  �x�s蔼动\",\"79.40\",\"0\",\"1,000\"\\r\\n\"15\",\"8458  �d�M�x�n\",\"79.10\",\"0\",\"1,000\",,\"16\",\"8561  �s���xい\",\"79.10\",\"2,000\",\"0\"\\r\\n\"17\",\"8847  ド�s�x�n\",\"79.00\",\"6,000\",\"0\",,\"18\",\"8849  ド�s�x�j\",\"78.90\",\"0\",\"1,000\"\\r\\n\"19\",\"9300  地�nッ��\",\"79.00\",\"0\",\"3,000\",,\"20\",\"9300  地�nッ��\",\"79.10\",\"0\",\"2,000\"\\r\\n\"21\",\"9300  地�nッ��\",\"79.50\",\"0\",\"1,000\",,\"22\",\"9321  ッ�鳕唯�\",\"79.00\",\"0\",\"11,000\"\\r\\n\"23\",\"9321  ッ�鳕唯�\",\"79.10\",\"0\",\"2,000\",,\"24\",\"9321  ッ�鳕唯�\",\"79.20\",\"0\",\"2,000\"\\r\\n\"25\",\"9321  ッ�鳕唯�\",\"79.30\",\"0\",\"1,000\",,\"26\",\"9888  じ�j�圣茅M\",\"79.00\",\"0\",\"1,000\"\\r\\n'"
      ]
     },
     "execution_count": 18,
     "metadata": {},
     "output_type": "execute_result"
    }
   ],
   "source": [
    "BSr.csvf.text"
   ]
  },
  {
   "cell_type": "code",
   "execution_count": 25,
   "metadata": {
    "collapsed": false
   },
   "outputs": [
    {
     "data": {
      "text/plain": [
       "'105年04月08日'"
      ]
     },
     "execution_count": 25,
     "metadata": {},
     "output_type": "execute_result"
    }
   ],
   "source": [
    "ind[1][0]"
   ]
  },
  {
   "cell_type": "code",
   "execution_count": 27,
   "metadata": {
    "collapsed": false
   },
   "outputs": [],
   "source": [
    "dtda = re.sub('[^0-9]','/',ind[1][0]).split('/')[0:3]"
   ]
  },
  {
   "cell_type": "code",
   "execution_count": 28,
   "metadata": {
    "collapsed": false
   },
   "outputs": [
    {
     "data": {
      "text/plain": [
       "'1050408'"
      ]
     },
     "execution_count": 28,
     "metadata": {},
     "output_type": "execute_result"
    }
   ],
   "source": [
    "('').join(dtda)"
   ]
  },
  {
   "cell_type": "code",
   "execution_count": null,
   "metadata": {
    "collapsed": true
   },
   "outputs": [],
   "source": []
  },
  {
   "cell_type": "code",
   "execution_count": 7,
   "metadata": {
    "collapsed": false
   },
   "outputs": [
    {
     "data": {
      "text/plain": [
       "'GAS7R'"
      ]
     },
     "execution_count": 7,
     "metadata": {},
     "output_type": "execute_result"
    }
   ],
   "source": [
    "BSr.OCR()"
   ]
  },
  {
   "cell_type": "code",
   "execution_count": null,
   "metadata": {
    "collapsed": false
   },
   "outputs": [
    {
     "name": "stdout",
     "output_type": "stream",
     "text": [
      "0 .  1318Q\n",
      "1 .  KHHA4\n",
      "2 .  XUQGU\n",
      "3 .  7GXN8\n",
      "4 .  NSLLS\n",
      "5 .  TAGBY\n",
      "6 .  \n",
      "7 .  BNGQL\n",
      "8 .  JHNHN\n",
      "9 .  11K6U\n",
      "10 .  D7MVB\n",
      "11 .  INKHS\n",
      "12 .  CJVDVX\n",
      "13 .  92QXD\n",
      "14 .  XPELX\n",
      "15 .  111Q48H\n",
      "16 .  NTJZC\n",
      "17 .  CQ19RR\n",
      "18 .  TRQR2\n",
      "19 .  IEFGL\n",
      "20 .  F1C3\n",
      "21 .  PLTT1\n",
      "22 .  1141116\n",
      "23 .  \n",
      "24 .  NBDIN\n",
      "25 .  CY3P8\n",
      "26 .  LSES\n",
      "27 .  YFYZCC\n",
      "28 .  VFKFY\n",
      "29 .  UFNUS\n",
      "30 .  ZGRFLHB\n",
      "31 .  UQBS\n",
      "32 .  RDUXB\n",
      "33 .  1XAL\n",
      "34 .  QKZD7\n",
      "35 .  DEUVV\n",
      "36 .  RXUL7\n",
      "37 .  GLJBR\n",
      "38 .  DXKQB\n",
      "39 .  AK7VH\n",
      "40 .  Z8FVJ2\n",
      "41 .  PVKSL\n",
      "42 .  XTZ1X\n",
      "43 .  EZTQPU\n",
      "44 .  GUFNGR\n",
      "45 .  11911CK\n",
      "46 .  SUBAV\n",
      "47 .  87131UJ\n",
      "48 .  PN934\n",
      "49 .  EBXHN\n",
      "50 .  NUEBZ\n",
      "51 .  KIBUC\n",
      "52 .  P99HZ\n",
      "53 .  YTPBA\n",
      "54 .  RL4QZ\n",
      "55 .  IGKHA\n",
      "56 .  PUSGV\n",
      "57 .  YEQXC\n",
      "58 .  JJLJA\n",
      "59 .  C28DC\n",
      "60 .  LLNSM\n",
      "61 .  ADDT7\n",
      "62 .  438W\n",
      "63 .  5PGLZFG\n",
      "64 .  34FVD\n",
      "65 .  YLPB\n",
      "66 .  \n",
      "67 .  1YIYB\n",
      "68 .  SJYP\n",
      "69 .  31QD7B\n",
      "70 .  BWTYM\n",
      "71 .  GNTRKEG\n",
      "72 .  HT1N11\n",
      "73 .  HBFEG\n",
      "74 .  7Y54Q\n",
      "75 .  HLUSB\n",
      "76 .  PDZLD\n",
      "77 .  21T865\n",
      "78 .  BDENN4\n",
      "79 .  4VVQ6\n",
      "80 .  T9N8E\n",
      "81 .  QHKUK\n",
      "82 .  BBJRE\n",
      "83 .  CULHP\n",
      "84 .  DDG91Q\n",
      "85 .  X3Q7\n",
      "86 .  BUT92\n",
      "87 .  BEST\n",
      "88 .  GTLYY\n",
      "89 .  \n",
      "90 .  ECXBD\n",
      "91 .  4ZNSX\n",
      "92 .  GPTBD\n",
      "93"
     ]
    }
   ],
   "source": [
    "for i in range(1000):\n",
    "    BSr.Captcha_preprocess()\n",
    "    print(i,'. ',BSr.OCR())\n",
    "    time.sleep(1.5)"
   ]
  },
  {
   "cell_type": "code",
   "execution_count": 65,
   "metadata": {
    "collapsed": false
   },
   "outputs": [],
   "source": [
    "t = '96T10'"
   ]
  },
  {
   "cell_type": "code",
   "execution_count": null,
   "metadata": {
    "collapsed": true
   },
   "outputs": [],
   "source": [
    "t = 'O49Y4'"
   ]
  },
  {
   "cell_type": "code",
   "execution_count": 79,
   "metadata": {
    "collapsed": false
   },
   "outputs": [
    {
     "name": "stdout",
     "output_type": "stream",
     "text": [
      "96T1Q\n"
     ]
    }
   ],
   "source": [
    "if '0' in t:\n",
    "    print(t.replace('0','Q'))"
   ]
  },
  {
   "cell_type": "code",
   "execution_count": null,
   "metadata": {
    "collapsed": true
   },
   "outputs": [],
   "source": []
  }
 ],
 "metadata": {
  "kernelspec": {
   "display_name": "Python 3",
   "language": "python",
   "name": "python3"
  },
  "language_info": {
   "codemirror_mode": {
    "name": "ipython",
    "version": 3
   },
   "file_extension": ".py",
   "mimetype": "text/x-python",
   "name": "python",
   "nbconvert_exporter": "python",
   "pygments_lexer": "ipython3",
   "version": "3.5.1"
  }
 },
 "nbformat": 4,
 "nbformat_minor": 0
}
