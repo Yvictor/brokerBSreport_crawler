{
 "cells": [
  {
   "cell_type": "code",
   "execution_count": 16,
   "metadata": {
    "collapsed": true
   },
   "outputs": [],
   "source": [
    "import requests\n",
    "import io\n",
    "from bs4 import BeautifulSoup as BS\n",
    "import pandas as pd\n",
    "import sys\n",
    "import time\n",
    "from datetime import date,datetime,timedelta\n",
    "import random\n",
    "import numpy as np\n",
    "from PIL import Image as IM\n",
    "import pytesseract\n",
    "import os\n",
    "import cv2\n",
    "import re\n",
    "import asyncio\n",
    "import hangups\n",
    "from scipy.misc import toimage\n",
    "from sklearn import preprocessing\n",
    "from IPython.display import display"
   ]
  },
  {
   "cell_type": "code",
   "execution_count": 2,
   "metadata": {
    "collapsed": false
   },
   "outputs": [
    {
     "name": "stderr",
     "output_type": "stream",
     "text": [
      "Using Theano backend.\n"
     ]
    }
   ],
   "source": [
    "from keras.models import Sequential\n",
    "from keras.layers import Dense, Dropout, Activation, Flatten\n",
    "from keras.layers import Convolution2D, MaxPooling2D\n",
    "from keras.optimizers import SGD\n",
    "from keras.models import model_from_json\n",
    "from keras.utils import np_utils"
   ]
  },
  {
   "cell_type": "code",
   "execution_count": 3,
   "metadata": {
    "collapsed": true
   },
   "outputs": [],
   "source": [
    "import matplotlib.pyplot as plt\n",
    "%matplotlib inline"
   ]
  },
  {
   "cell_type": "code",
   "execution_count": 9,
   "metadata": {
    "collapsed": true
   },
   "outputs": [],
   "source": [
    "class captcha_recognize:\n",
    "    def __init__(self):\n",
    "        self.model = None\n",
    "        self.lable = ['2', '3', '4', '6', '7', '8', '9', 'A', 'C', 'D', 'E', 'F', 'G','H', 'J', \n",
    "                      'K', 'L', 'N', 'P', 'Q', 'R', 'T', 'U', 'V', 'X', 'Y', 'Z']\n",
    "    def one_hot_reverse(self,onehot):\n",
    "        return self.lable[np.where(onehot==1)[0][0]]\n",
    "    def load_model(self):\n",
    "        self.model = model_from_json(open('cnn_captcha.json').read())\n",
    "        self.model.load_weights('TWSE_captcha_weights.h5')\n",
    "\n",
    "        sgd = SGD(lr=0.01, decay=1e-6, momentum=0.9, nesterov=True)\n",
    "        self.model.compile(loss='categorical_crossentropy',\n",
    "                      optimizer=sgd,\n",
    "                      metrics=['accuracy'])\n",
    "    def preprocess(self,image):\n",
    "        X = []\n",
    "        imgpos = [[5,45],[45,85],[85,125],[125,165],[160,200]]\n",
    "        #image = IM.open('/home/ubuntu/Notebooks/captest.png')\n",
    "        imgarray = np.asarray(image)\n",
    "        for tid in range(5):\n",
    "            X.append(imgarray[10:50,imgpos[tid][0]:imgpos[tid][1]].reshape(3,40,40))\n",
    "        X = np.array(X).astype('float32')\n",
    "        X /= 255\n",
    "        return X\n",
    "    \n",
    "    def captcha_predict(self,X):\n",
    "        if type(self.model)!= Sequential:\n",
    "            self.load_model()\n",
    "        ans = self.model.predict(X)\n",
    "        captcha =''\n",
    "        for i in ans:\n",
    "            captcha += self.lable[i.argmax()]\n",
    "        return captcha"
   ]
  },
  {
   "cell_type": "code",
   "execution_count": 54,
   "metadata": {
    "collapsed": true
   },
   "outputs": [],
   "source": [
    "refpath = ''#os.getcwd()+'/'\n",
    "CONVERSATION_ID = 'Ugx10p7pgNA_uogOqn54AaABAagB3ZWGCA'\n",
    "REFRESH_TOKEN_PATH = refpath+'refresh_token.txt'\n",
    "    \n",
    "def Hangouts():\n",
    "    cookies = hangups.auth.get_auth_stdin(REFRESH_TOKEN_PATH)\n",
    "    client = hangups.Client(cookies)\n",
    "    client.on_connect.add_observer(lambda: asyncio.async(send_message(client)))\n",
    "    loop = asyncio.get_event_loop()\n",
    "    loop.run_until_complete(client.connect())\n",
    "@asyncio.coroutine\n",
    "def send_message(client):\n",
    "    \"\"\"Send message using connected hangups.Client instance.\"\"\"\n",
    "    request = hangups.hangouts_pb2.SendChatMessageRequest(\n",
    "        request_header=client.get_request_header(),\n",
    "        event_request_header=hangups.hangouts_pb2.EventRequestHeader(\n",
    "            conversation_id=hangups.hangouts_pb2.ConversationId(id=CONVERSATION_ID),\n",
    "            client_generated_id=client.get_client_generated_id(),),\n",
    "        message_content=hangups.hangouts_pb2.MessageContent(\n",
    "            segment=[hangups.ChatMessageSegment(MESSAGE).serialize()],),)\n",
    "    try:\n",
    "        yield from client.send_chat_message(request)\n",
    "    finally:\n",
    "        yield from client.disconnect()"
   ]
  },
  {
   "cell_type": "code",
   "execution_count": 63,
   "metadata": {
    "collapsed": false
   },
   "outputs": [
    {
     "name": "stderr",
     "output_type": "stream",
     "text": [
      "ERROR:asyncio:Unclosed response\n",
      "client_response: <ClientResponse(https://0.client-channel.google.com/client-channel/channel/bind?gsessionid=D_TOj3qP-QEikcz9qVCLoJd7pqzQCoQG&t=1&CI=0&TYPE=xmlhttp&VER=8&RID=rpc&ctype=hangouts&SID=2B02BBF69405F179) [200 OK]>\n",
      "<CIMultiDictProxy {'CACHE-CONTROL': 'no-cache, no-store, max-age=0, must-revalidate', 'PRAGMA': 'no-cache', 'EXPIRES': 'Mon, 01 Jan 1990 00:00:00 GMT', 'DATE': 'Mon, 27 Jun 2016 15:29:09 GMT', 'CONTENT-TYPE': 'text/plain; charset=utf-8', 'TRANSFER-ENCODING': 'chunked', 'X-CONTENT-TYPE-OPTIONS': 'nosniff', 'X-XSS-PROTECTION': '1; mode=block', 'SERVER': 'GSE', 'ALTERNATE-PROTOCOL': '443:quic', 'ALT-SVC': 'quic=\":443\"; ma=2592000; v=\"34,33,32,31,30,29,28,27,26,25\"'}>\n",
      "\n",
      "ERROR:asyncio:Unclosed response\n",
      "client_response: <ClientResponse(https://0.client-channel.google.com/client-channel/channel/bind?gsessionid=WyQ8FlwEJEII5z4UiZC5KeYgqpGDK7Em&t=1&CI=0&TYPE=xmlhttp&VER=8&RID=rpc&ctype=hangouts&SID=66DC4DC4FA9E6B98) [200 OK]>\n",
      "<CIMultiDictProxy {'CACHE-CONTROL': 'no-cache, no-store, max-age=0, must-revalidate', 'PRAGMA': 'no-cache', 'EXPIRES': 'Mon, 01 Jan 1990 00:00:00 GMT', 'DATE': 'Mon, 27 Jun 2016 15:29:13 GMT', 'CONTENT-TYPE': 'text/plain; charset=utf-8', 'TRANSFER-ENCODING': 'chunked', 'X-CONTENT-TYPE-OPTIONS': 'nosniff', 'X-XSS-PROTECTION': '1; mode=block', 'SERVER': 'GSE', 'ALTERNATE-PROTOCOL': '443:quic', 'ALT-SVC': 'quic=\":443\"; ma=2592000; v=\"34,33,32,31,30,29,28,27,26,25\"'}>\n",
      "\n"
     ]
    }
   ],
   "source": [
    "def transdate(l):\n",
    "    l = l.split('/')\n",
    "    return date(int(l[0]),int(l[1]),int(l[2]))\n",
    "def transnum(l):\n",
    "    return float(('').join(l.split(',')))\n",
    "def divexpectz(a,b):\n",
    "    if b == 0:\n",
    "        return 0\n",
    "    else:\n",
    "        return round(a/b,2)\n",
    "def returnstat(id0,reposttime):\n",
    "    text = \"\\r {0}重新取得驗證碼次數:{1}\".format(id0,reposttime)\n",
    "    sys.stdout.write(text)\n",
    "    sys.stdout.flush()\n",
    "\n",
    "class TWSEBSreport:\n",
    "    def __init__(self):\n",
    "        self.urltwse = 'http://bsr.twse.com.tw/bshtm/'\n",
    "        self.rs = requests.session()\n",
    "        self.curpath = ''\n",
    "        self.datenow = self.__getdate()\n",
    "        self.notradedata = []#new\n",
    "        stockidt = pd.read_csv('csv_data/listcompanym.csv',encoding='utf-8')\n",
    "        self.stockidL = stockidt['股票代號'].tolist()\n",
    "        self.captcha_rec = captcha_recognize()\n",
    "        \n",
    "    def __getdate(self):\n",
    "        d = datetime.now()\n",
    "        if d.hour<16:\n",
    "            d = d.date() - timedelta(1)\n",
    "        if type(d) != type(date.today()):\n",
    "                d = d.date()\n",
    "        if d.isoweekday() == 7:\n",
    "            d = d - timedelta(2)\n",
    "        elif d.isoweekday() == 6:\n",
    "            d = d - timedelta(1)\n",
    "        return d\n",
    "    def getCaptcha(self):\n",
    "        r1 = self.rs.get('http://bsr.twse.com.tw/bshtm/bsMenu.aspx')\n",
    "        r1.encoding = 'utf-8'\n",
    "        soup = BS(r1.text,'lxml')\n",
    "        guid = soup.findAll('img')[1].attrs['src']\n",
    "        self.VIEWSTATE = soup.select('#__VIEWSTATE')[0].attrs['value']\n",
    "        self.EVENTVALIDATION = soup.select('#__EVENTVALIDATION')[0].attrs['value']\n",
    "        captcha = self.rs.get('http://bsr.twse.com.tw/bshtm/%s'%guid, stream=True, verify=False)\n",
    "        return captcha.content\n",
    "\n",
    "    def OCR(self):\n",
    "        image_array = IM.open(io.BytesIO(self.getCaptcha()))\n",
    "        #display(image_array)\n",
    "        return self.captcha_rec.captcha_predict(self.captcha_rec.preprocess(image_array))\n",
    "\n",
    "    def postpayload(self,stock_id,captcha,sleeptime):\n",
    "        payload ={'__EVENTTARGET':'',\n",
    "                '__EVENTARGUMENT':'',\n",
    "                '__LASTFOCUS':'',\n",
    "                '__VIEWSTATE':'%s'%self.VIEWSTATE,\n",
    "                '__EVENTVALIDATION':'%s'%self.EVENTVALIDATION,\n",
    "                'RadioButton_Normal':'RadioButton_Normal',\n",
    "                'TextBox_Stkno':'%s'%str(stock_id),\n",
    "                'CaptchaControl1':'%s'%captcha,\n",
    "                'btnOK':'查詢'}\n",
    "        resp = self.rs.post('http://bsr.twse.com.tw/bshtm/bsMenu.aspx',data = payload)\n",
    "        checkans = BS(resp.text,'lxml')\n",
    "        self.answ = checkans.select('.radio')[3].text\n",
    "        correctanswer = 0\n",
    "        if self.answ =='':\n",
    "            correctanswer = 1\n",
    "            resq = self.rs.get('http://bsr.twse.com.tw/bshtm/bsContent.aspx?v=t')\n",
    "            self.soupdata = BS(resq.text,\"lxml\")\n",
    "        elif self.answ =='驗證碼錯誤!' or self.answ =='驗證碼已逾期.':\n",
    "            correctanswer = 0\n",
    "            time.sleep(sleeptime)\n",
    "        elif self.answ =='查無資料':\n",
    "            correctanswer = 2\n",
    "        else:\n",
    "            correctanswer = 0\n",
    "            time.sleep(sleeptime)\n",
    "        return correctanswer\n",
    "    def processdata(self,stock_id):\n",
    "        dat = transdate(self.soupdata.select('#receive_date')[0].text.strip('\\r\\n '))\n",
    "        tda = transnum(self.soupdata.select('#trade_rec')[0].text.strip('\\r\\n '))\n",
    "        ap = transnum(self.soupdata.select('#trade_amt')[0].text.strip('\\r\\n '))\n",
    "        allshare = transnum(self.soupdata.select('#trade_qty')[0].text.strip('\\r\\n '))\n",
    "        op = transnum(self.soupdata.select('#open_price')[0].text.strip('\\r\\n '))\n",
    "        hp = transnum(self.soupdata.select('#high_price')[0].text.strip('\\r\\n '))\n",
    "        lp = transnum(self.soupdata.select('#low_price')[0].text.strip('\\r\\n '))\n",
    "        cp = transnum(self.soupdata.select('#last_price')[0].text.strip('\\r\\n '))\n",
    "        d = {\"日期\":dat,\"代號\":stock_id,\"成交筆數\":tda,\"總成交金額\":ap,\"總成交股數\":allshare,\n",
    "            \"開盤價\":op,\"最高價\":hp,\"最低價\":lp,\"收盤價\":cp}\n",
    "        ind = pd.DataFrame(d, index=[1])\n",
    "        ind.index.name = '序'\n",
    "        dlist = pd.read_html(str(self.soupdata.select('#table2 table')), header=0, index_col=0)\n",
    "        table = pd.DataFrame()\n",
    "        for i in dlist:\n",
    "            frames = [table, i]\n",
    "            table = pd.concat(frames)\n",
    "        table = table.dropna()\n",
    "        table = table.join(ind)\n",
    "        table[[\"日期\",\"代號\",\"成交筆數\",\"總成交金額\",\"總成交股數\",\"開盤價\",\"最高價\",\"最低價\",\"收盤價\"]] = table[[\"日期\",\"代號\",\"成交筆數\",\"總成交金額\",\"總成交股數\",\"開盤價\",\"最高價\",\"最低價\",\"收盤價\"]].fillna(method='pad')\n",
    "        table = table[[\"日期\",\"代號\",\"成交筆數\",\"總成交金額\",\"總成交股數\",\"開盤價\",\"最高價\",\"最低價\",\"收盤價\",\"證券商\",\"成交單價\",\"買進股數\",\"賣出股數\"]]\n",
    "        table = table.sort_index()\n",
    "        table['證券商']=table['證券商'].map(lambda x: str(x)[0:4])\n",
    "        table['日期'] = pd.to_datetime(table['日期'])\n",
    "        filename = str(stock_id)+\"_\"+('').join(str(dat).split('-'))\n",
    "        table.to_csv(self.curpath+'csv_data/stockdt/ori/%s.csv'%filename)\n",
    "        \n",
    "        buyp = table.apply(lambda row: row['成交單價']*row['買進股數'],axis=1)\n",
    "        table.insert(13,'買進金額',buyp)\n",
    "        sellp = table.apply(lambda row: row['成交單價']*row['賣出股數'],axis=1)\n",
    "        table.insert(14,'賣出金額',sellp)\n",
    "        table_sort = table.groupby([\"日期\",\"代號\",\"成交筆數\",\"總成交金額\",\"總成交股數\",\"開盤價\",\"最高價\",\"最低價\",\"收盤價\",\"證券商\"])[['買進股數','賣出股數','買進金額','賣出金額']].sum()\n",
    "        table_sort = table_sort.reset_index([\"成交筆數\",\"總成交金額\",\"總成交股數\",\"開盤價\",\"最高價\",\"最低價\",\"收盤價\"])\n",
    "        table_sort = table_sort[['買進股數','賣出股數','買進金額','賣出金額',\"成交筆數\",\"總成交金額\",\"總成交股數\",\"開盤價\",\"最高價\",\"最低價\",\"收盤價\"]]\n",
    "        b_avg_p = table_sort.apply(lambda row: divexpectz(row['買進金額'],row['買進股數']),axis=1)\n",
    "        s_avg_p = table_sort.apply(lambda row: divexpectz(row['賣出金額'],row['賣出股數']),axis=1)\n",
    "\n",
    "        b_ratio = table_sort.apply(lambda row: divexpectz(row['買進股數'],row['總成交股數'])*100,axis=1)\n",
    "        s_ratio = table_sort.apply(lambda row: divexpectz(row['賣出股數'],row['總成交股數'])*100,axis=1)\n",
    "\n",
    "        bs_share_net = table_sort.apply(lambda row: row['買進股數']-row['賣出股數'],axis=1)\n",
    "        bs_price_net = table_sort.apply(lambda row: row['買進金額']-row['賣出金額'],axis=1)\n",
    "        table_sort.insert(2,'買賣超股數',bs_share_net)\n",
    "        table_sort.insert(5,'買賣超金額',bs_price_net)\n",
    "        table_sort.insert(6,'買進均價',b_avg_p)\n",
    "        table_sort.insert(7,'賣出均價',s_avg_p)\n",
    "        table_sort.insert(8,'買進比重',b_ratio)\n",
    "        table_sort.insert(9,'賣出比重',s_ratio)\n",
    "        if os.path.exists(self.curpath+'csv_data/stockdt/sort/%s.csv'%str(stock_id)) == False:\n",
    "            table_sort.to_csv(self.curpath+'csv_data/stockdt/sort/%s.csv'%str(stock_id))\n",
    "        #after first time use\n",
    "        table_s = pd.read_csv(self.curpath+'csv_data/stockdt/sort/%s.csv'%str(stock_id),encoding='utf-8',index_col=[0,1,2],parse_dates=[0])\n",
    "        if dat not in table_s.index.levels[0]:\n",
    "            frame = [table_sort,table_s]\n",
    "            table_s = pd.concat(frame)\n",
    "\n",
    "        table_s.to_csv(self.curpath+'csv_data/stockdt/sort/%s.csv'%str(stock_id))\n",
    "    def singleprocess(self,stockid):\n",
    "        anscor = 0\n",
    "        repostcount = 0\n",
    "        filename = str(stockid)+\"_\"+('').join(str(self.__getdate()).split('-'))\n",
    "        if os.path.exists(self.curpath+'csv_data/stockdt/ori/%s.csv'%filename) == False:\n",
    "            while anscor==0:\n",
    "                Capt = ''\n",
    "                while len(Capt) !=5:\n",
    "                    try:\n",
    "                        Capt = self.OCR()\n",
    "                    except:\n",
    "                        pass\n",
    "                anscor = self.postpayload(stockid, Capt, sleeptime=5)\n",
    "                returnstat(stockid,repostcount)\n",
    "                repostcount +=1\n",
    "                if anscor == 2:\n",
    "                        self.notradedata.append(stockid)\n",
    "                        break\n",
    "                if repostcount>150:\n",
    "                    repostcount = 150\n",
    "                    break\n",
    "                time.sleep(random.choice([2.8,3.2,3.8,4.1,4.7]))\n",
    "                if anscor == 1 :\n",
    "                    self.processdata(stockid)\n",
    "        elif os.path.exists(self.curpath+'csv_data/stockdt/ori/%s.csv'%filename) == True:\n",
    "            repostcount = 100\n",
    "        return stockid,repostcount\n",
    "    def processAll(self):\n",
    "        starttime = datetime.now()\n",
    "        stlen = len(self.stockidL)\n",
    "        self.arrcu = []\n",
    "        global MESSAGE\n",
    "        MESSAGE = ''\n",
    "        for i in range(stlen):\n",
    "            a = self.singleprocess(self.stockidL[i])\n",
    "            if a[1]==150:\n",
    "                a = self.singleprocess(self.stockidL[i])\n",
    "            ptime = datetime.now()\n",
    "            text = \"\\r上市 {0}/{1} 已完成 {2}%  處理時間: {3}\".format(i+1,stlen,round((i+1)/stlen,4)*100,str(ptime-starttime))\n",
    "            sys.stdout.write(text)\n",
    "            sys.stdout.flush()\n",
    "            #MESSAGE = \"上市 {0}/{1} 已完成 {2}%  處理時間: {3}\".format(i+1,stlen,round((i+1)/stlen,4)*100,str(ptime-starttime))\n",
    "            #Hangouts()\n",
    "            self.arrcu.append(a)\n",
    "            if self.arrcu[-1][1] == 0:\n",
    "                time.sleep(3)\n",
    "            if len(self.arrcu)>3 and self.arrcu[-1][1] == 1 and self.arrcu[-2][1] == 1 and self.arrcu[-3][1] == 1:\n",
    "                time.sleep(5)\n",
    "        endtime = datetime.now()\n",
    "        spendt = str(endtime - starttime)\n",
    "        MESSAGE = \"上市股票交易日報下載完成 \\n 花費時間:{0}\".format(spendt)\n",
    "        Hangouts()\n",
    "        "
   ]
  },
  {
   "cell_type": "code",
   "execution_count": 64,
   "metadata": {
    "collapsed": false
   },
   "outputs": [],
   "source": [
    "BSr = TWSEBSreport()"
   ]
  },
  {
   "cell_type": "code",
   "execution_count": 53,
   "metadata": {
    "collapsed": false
   },
   "outputs": [
    {
     "name": "stdout",
     "output_type": "stream",
     "text": [
      "\r",
      " 2332重新取得驗證碼次數:0"
     ]
    },
    {
     "data": {
      "text/plain": [
       "(2332, 1)"
      ]
     },
     "execution_count": 53,
     "metadata": {},
     "output_type": "execute_result"
    }
   ],
   "source": [
    "BSr.singleprocess(2332)"
   ]
  },
  {
   "cell_type": "code",
   "execution_count": 57,
   "metadata": {
    "collapsed": false
   },
   "outputs": [
    {
     "data": {
      "text/plain": [
       "'REPGC'"
      ]
     },
     "execution_count": 57,
     "metadata": {},
     "output_type": "execute_result"
    }
   ],
   "source": [
    "BSr.OCR()"
   ]
  },
  {
   "cell_type": "code",
   "execution_count": 65,
   "metadata": {
    "collapsed": false
   },
   "outputs": [
    {
     "name": "stdout",
     "output_type": "stream",
     "text": [
      " 2030重新取得驗證碼次數:0"
     ]
    },
    {
     "ename": "KeyboardInterrupt",
     "evalue": "",
     "output_type": "error",
     "traceback": [
      "\u001b[1;31m---------------------------------------------------------------------------\u001b[0m",
      "\u001b[1;31mKeyboardInterrupt\u001b[0m                         Traceback (most recent call last)",
      "\u001b[1;32m<ipython-input-65-9d17835ef88a>\u001b[0m in \u001b[0;36m<module>\u001b[1;34m()\u001b[0m\n\u001b[1;32m----> 1\u001b[1;33m \u001b[0mBSr\u001b[0m\u001b[1;33m.\u001b[0m\u001b[0mprocessAll\u001b[0m\u001b[1;33m(\u001b[0m\u001b[1;33m)\u001b[0m\u001b[1;33m\u001b[0m\u001b[0m\n\u001b[0m",
      "\u001b[1;32m<ipython-input-63-12d6f72ff562>\u001b[0m in \u001b[0;36mprocessAll\u001b[1;34m(self)\u001b[0m\n\u001b[0;32m    170\u001b[0m         \u001b[0mMESSAGE\u001b[0m \u001b[1;33m=\u001b[0m \u001b[1;34m''\u001b[0m\u001b[1;33m\u001b[0m\u001b[0m\n\u001b[0;32m    171\u001b[0m         \u001b[1;32mfor\u001b[0m \u001b[0mi\u001b[0m \u001b[1;32min\u001b[0m \u001b[0mrange\u001b[0m\u001b[1;33m(\u001b[0m\u001b[0mstlen\u001b[0m\u001b[1;33m)\u001b[0m\u001b[1;33m:\u001b[0m\u001b[1;33m\u001b[0m\u001b[0m\n\u001b[1;32m--> 172\u001b[1;33m             \u001b[0ma\u001b[0m \u001b[1;33m=\u001b[0m \u001b[0mself\u001b[0m\u001b[1;33m.\u001b[0m\u001b[0msingleprocess\u001b[0m\u001b[1;33m(\u001b[0m\u001b[0mself\u001b[0m\u001b[1;33m.\u001b[0m\u001b[0mstockidL\u001b[0m\u001b[1;33m[\u001b[0m\u001b[0mi\u001b[0m\u001b[1;33m]\u001b[0m\u001b[1;33m)\u001b[0m\u001b[1;33m\u001b[0m\u001b[0m\n\u001b[0m\u001b[0;32m    173\u001b[0m             \u001b[1;32mif\u001b[0m \u001b[0ma\u001b[0m\u001b[1;33m[\u001b[0m\u001b[1;36m1\u001b[0m\u001b[1;33m]\u001b[0m\u001b[1;33m==\u001b[0m\u001b[1;36m150\u001b[0m\u001b[1;33m:\u001b[0m\u001b[1;33m\u001b[0m\u001b[0m\n\u001b[0;32m    174\u001b[0m                 \u001b[0ma\u001b[0m \u001b[1;33m=\u001b[0m \u001b[0mself\u001b[0m\u001b[1;33m.\u001b[0m\u001b[0msingleprocess\u001b[0m\u001b[1;33m(\u001b[0m\u001b[0mself\u001b[0m\u001b[1;33m.\u001b[0m\u001b[0mstockidL\u001b[0m\u001b[1;33m[\u001b[0m\u001b[0mi\u001b[0m\u001b[1;33m]\u001b[0m\u001b[1;33m)\u001b[0m\u001b[1;33m\u001b[0m\u001b[0m\n",
      "\u001b[1;32m<ipython-input-63-12d6f72ff562>\u001b[0m in \u001b[0;36msingleprocess\u001b[1;34m(self, stockid)\u001b[0m\n\u001b[0;32m    157\u001b[0m                     \u001b[0mrepostcount\u001b[0m \u001b[1;33m=\u001b[0m \u001b[1;36m150\u001b[0m\u001b[1;33m\u001b[0m\u001b[0m\n\u001b[0;32m    158\u001b[0m                     \u001b[1;32mbreak\u001b[0m\u001b[1;33m\u001b[0m\u001b[0m\n\u001b[1;32m--> 159\u001b[1;33m                 \u001b[0mtime\u001b[0m\u001b[1;33m.\u001b[0m\u001b[0msleep\u001b[0m\u001b[1;33m(\u001b[0m\u001b[0mrandom\u001b[0m\u001b[1;33m.\u001b[0m\u001b[0mchoice\u001b[0m\u001b[1;33m(\u001b[0m\u001b[1;33m[\u001b[0m\u001b[1;36m2.8\u001b[0m\u001b[1;33m,\u001b[0m\u001b[1;36m3.2\u001b[0m\u001b[1;33m,\u001b[0m\u001b[1;36m3.8\u001b[0m\u001b[1;33m,\u001b[0m\u001b[1;36m4.1\u001b[0m\u001b[1;33m,\u001b[0m\u001b[1;36m4.7\u001b[0m\u001b[1;33m]\u001b[0m\u001b[1;33m)\u001b[0m\u001b[1;33m)\u001b[0m\u001b[1;33m\u001b[0m\u001b[0m\n\u001b[0m\u001b[0;32m    160\u001b[0m                 \u001b[1;32mif\u001b[0m \u001b[0manscor\u001b[0m \u001b[1;33m==\u001b[0m \u001b[1;36m1\u001b[0m \u001b[1;33m:\u001b[0m\u001b[1;33m\u001b[0m\u001b[0m\n\u001b[0;32m    161\u001b[0m                     \u001b[0mself\u001b[0m\u001b[1;33m.\u001b[0m\u001b[0mprocessdata\u001b[0m\u001b[1;33m(\u001b[0m\u001b[0mstockid\u001b[0m\u001b[1;33m)\u001b[0m\u001b[1;33m\u001b[0m\u001b[0m\n",
      "\u001b[1;31mKeyboardInterrupt\u001b[0m: "
     ]
    }
   ],
   "source": [
    "BSr.processAll()"
   ]
  },
  {
   "cell_type": "code",
   "execution_count": 59,
   "metadata": {
    "collapsed": false
   },
   "outputs": [
    {
     "data": {
      "text/plain": [
       "[(1101, 1),\n",
       " (1102, 1),\n",
       " (1103, 1),\n",
       " (1104, 1),\n",
       " (1108, 1),\n",
       " (1109, 1),\n",
       " (1110, 1),\n",
       " (1201, 1),\n",
       " (1203, 1),\n",
       " (1210, 1),\n",
       " (1213, 1),\n",
       " (1215, 1),\n",
       " (1216, 1),\n",
       " (1217, 1),\n",
       " (1218, 1),\n",
       " (1219, 1),\n",
       " (1220, 1),\n",
       " (1225, 1),\n",
       " (1227, 1),\n",
       " (1229, 1),\n",
       " (1231, 1),\n",
       " (1232, 1),\n",
       " (1233, 1),\n",
       " (1234, 1),\n",
       " (1235, 1),\n",
       " (1236, 1),\n",
       " (1262, 1),\n",
       " (1301, 1),\n",
       " (1303, 1),\n",
       " (1304, 2),\n",
       " (1305, 1),\n",
       " (1307, 1),\n",
       " (1308, 1),\n",
       " (1309, 1),\n",
       " (1310, 1),\n",
       " (1312, 1),\n",
       " (1313, 1),\n",
       " (1314, 1),\n",
       " (1315, 1),\n",
       " (1316, 1),\n",
       " (1319, 1),\n",
       " (1321, 1),\n",
       " (1323, 1),\n",
       " (1324, 1),\n",
       " (1325, 1),\n",
       " (1326, 1),\n",
       " (1337, 1),\n",
       " (1338, 1),\n",
       " (1339, 1),\n",
       " (1340, 1),\n",
       " (1402, 1),\n",
       " (1409, 1),\n",
       " (1410, 1),\n",
       " (1413, 1),\n",
       " (1414, 1),\n",
       " (1416, 1),\n",
       " (1417, 1),\n",
       " (1418, 1),\n",
       " (1419, 1),\n",
       " (1423, 1),\n",
       " (1432, 1),\n",
       " (1434, 1),\n",
       " (1435, 1),\n",
       " (1436, 1),\n",
       " (1437, 1),\n",
       " (1438, 1),\n",
       " (1439, 1),\n",
       " (1440, 1),\n",
       " (1441, 1),\n",
       " (1442, 1),\n",
       " (1443, 1),\n",
       " (1444, 1),\n",
       " (1445, 1),\n",
       " (1446, 1),\n",
       " (1447, 1),\n",
       " (1449, 1),\n",
       " (1451, 1),\n",
       " (1452, 1),\n",
       " (1453, 1),\n",
       " (1454, 1),\n",
       " (1455, 1),\n",
       " (1456, 1),\n",
       " (1457, 1),\n",
       " (1459, 1),\n",
       " (1460, 1),\n",
       " (1463, 1),\n",
       " (1464, 1),\n",
       " (1465, 1),\n",
       " (1466, 1),\n",
       " (1467, 1),\n",
       " (1468, 1),\n",
       " (1469, 1),\n",
       " (1470, 1),\n",
       " (1471, 1),\n",
       " (1472, 1),\n",
       " (1473, 1),\n",
       " (1474, 1),\n",
       " (1475, 1),\n",
       " (1476, 1),\n",
       " (1477, 1),\n",
       " (1503, 1),\n",
       " (1504, 1),\n",
       " (1506, 1),\n",
       " (1507, 1),\n",
       " (1512, 1),\n",
       " (1513, 1),\n",
       " (1514, 1),\n",
       " (1515, 1),\n",
       " (1516, 1),\n",
       " (1517, 1),\n",
       " (1519, 1),\n",
       " (1521, 1),\n",
       " (1522, 1),\n",
       " (1524, 1),\n",
       " (1525, 1),\n",
       " (1526, 1),\n",
       " (1527, 1),\n",
       " (1528, 1),\n",
       " (1529, 1),\n",
       " (1530, 1),\n",
       " (1531, 1),\n",
       " (1532, 1),\n",
       " (1533, 1),\n",
       " (1535, 1),\n",
       " (1536, 2),\n",
       " (1537, 1),\n",
       " (1538, 1),\n",
       " (1539, 1),\n",
       " (1540, 1),\n",
       " (1541, 1),\n",
       " (1558, 1),\n",
       " (1560, 1),\n",
       " (1568, 1),\n",
       " (1582, 1),\n",
       " (1583, 1),\n",
       " (1589, 1),\n",
       " (1590, 1),\n",
       " (1592, 1),\n",
       " (1603, 1),\n",
       " (1604, 1),\n",
       " (1605, 1),\n",
       " (1608, 1),\n",
       " (1609, 1),\n",
       " (1611, 1),\n",
       " (1612, 1),\n",
       " (1613, 1),\n",
       " (1614, 1),\n",
       " (1615, 1),\n",
       " (1616, 1),\n",
       " (1617, 1),\n",
       " (1618, 1),\n",
       " (1626, 1),\n",
       " (1701, 1),\n",
       " (1702, 1),\n",
       " (1704, 1),\n",
       " (1707, 1),\n",
       " (1708, 1),\n",
       " (1709, 1),\n",
       " (1710, 1),\n",
       " (1711, 1),\n",
       " (1712, 1),\n",
       " (1713, 1),\n",
       " (1714, 1),\n",
       " (1715, 1),\n",
       " (1717, 1),\n",
       " (1718, 1),\n",
       " (1720, 1),\n",
       " (1721, 1),\n",
       " (1722, 1),\n",
       " (1723, 2),\n",
       " (1724, 1),\n",
       " (1725, 1),\n",
       " (1726, 1),\n",
       " (1727, 1),\n",
       " (1729, 1),\n",
       " (1730, 2),\n",
       " (1731, 1),\n",
       " (1732, 1),\n",
       " (1733, 1),\n",
       " (1734, 2),\n",
       " (1735, 1),\n",
       " (1736, 1),\n",
       " (1737, 1),\n",
       " (1762, 1),\n",
       " (1773, 1),\n",
       " (1783, 1),\n",
       " (1786, 1),\n",
       " (1789, 1),\n",
       " (1802, 1),\n",
       " (1805, 1),\n",
       " (1806, 1),\n",
       " (1808, 1),\n",
       " (1809, 1),\n",
       " (1810, 1),\n",
       " (1817, 1),\n",
       " (1902, 2),\n",
       " (1903, 1),\n",
       " (1904, 1),\n",
       " (1905, 1),\n",
       " (1906, 1),\n",
       " (1907, 1),\n",
       " (1909, 1),\n",
       " (2002, 1),\n",
       " (2006, 1),\n",
       " (2007, 1),\n",
       " (2008, 1),\n",
       " (2009, 1),\n",
       " (2010, 1),\n",
       " (2012, 2),\n",
       " (2013, 1),\n",
       " (2014, 1),\n",
       " (2015, 1),\n",
       " (2017, 2),\n",
       " (2020, 1),\n",
       " (2022, 1),\n",
       " (2023, 1),\n",
       " (2024, 1),\n",
       " (2025, 1),\n",
       " (2027, 1),\n",
       " (2028, 1)]"
      ]
     },
     "execution_count": 59,
     "metadata": {},
     "output_type": "execute_result"
    }
   ],
   "source": [
    "BSr.arrcu"
   ]
  },
  {
   "cell_type": "code",
   "execution_count": 138,
   "metadata": {
    "collapsed": false
   },
   "outputs": [
    {
     "ename": "SyntaxError",
     "evalue": "invalid syntax (<ipython-input-138-d72e1fb9d4dd>, line 1)",
     "output_type": "error",
     "traceback": [
      "\u001b[1;36m  File \u001b[1;32m\"<ipython-input-138-d72e1fb9d4dd>\"\u001b[1;36m, line \u001b[1;32m1\u001b[0m\n\u001b[1;33m    if 'O' replace 'Q'\u001b[0m\n\u001b[1;37m                 ^\u001b[0m\n\u001b[1;31mSyntaxError\u001b[0m\u001b[1;31m:\u001b[0m invalid syntax\n"
     ]
    }
   ],
   "source": [
    "if 'O' replace 'Q'\n",
    "if '1' replace 'T'#'L'\n",
    "if 'S' replace '3','8','6'\n",
    "if '5' replace 'E'\n",
    "if 'I' replace '7'# appear more than 3 time\n",
    "if '0' replace 'Q'\n",
    "if 'B' replace '8'\n",
    "'BIOSW150'"
   ]
  },
  {
   "cell_type": "code",
   "execution_count": 53,
   "metadata": {
    "collapsed": false
   },
   "outputs": [
    {
     "data": {
      "text/plain": [
       "'驗證碼已逾期.'"
      ]
     },
     "execution_count": 53,
     "metadata": {},
     "output_type": "execute_result"
    }
   ],
   "source": [
    "BSr.postpayload(2330,BSr.OCR())"
   ]
  },
  {
   "cell_type": "code",
   "execution_count": 7,
   "metadata": {
    "collapsed": true
   },
   "outputs": [],
   "source": [
    "rs = requests.session()\n",
    "r1 = rs.get('http://bsr.twse.com.tw/bshtm/bsMenu.aspx')\n",
    "r1.encoding = 'utf-8'\n",
    "soup = BS(r1.text,'lxml')\n",
    "guid = soup.findAll('img')[1].attrs['src']"
   ]
  },
  {
   "cell_type": "code",
   "execution_count": 8,
   "metadata": {
    "collapsed": false
   },
   "outputs": [],
   "source": [
    "captcha = rs.get('http://bsr.twse.com.tw/bshtm/%s'%guid, stream=True, verify=False)"
   ]
  },
  {
   "cell_type": "code",
   "execution_count": 9,
   "metadata": {
    "collapsed": false
   },
   "outputs": [
    {
     "data": {
      "image/jpeg": "[encoded data removed]",
      "text/plain": [
       "<IPython.core.display.Image object>"
      ]
     },
     "execution_count": 9,
     "metadata": {},
     "output_type": "execute_result"
    }
   ],
   "source": [
    "Image(io.BytesIO(captcha.content).getvalue(), format='jpeg')"
   ]
  },
  {
   "cell_type": "code",
   "execution_count": 14,
   "metadata": {
    "collapsed": true
   },
   "outputs": [],
   "source": [
    "VIEWSTATE = soup.select('#__VIEWSTATE')[0].attrs['value']\n",
    "EVENTVALIDATION = soup.select('#__EVENTVALIDATION')[0].attrs['value']"
   ]
  },
  {
   "cell_type": "code",
   "execution_count": 16,
   "metadata": {
    "collapsed": false
   },
   "outputs": [
    {
     "data": {
      "text/plain": [
       "'/wEdAAYIeYuZGmqJB+44TTP6z4nmfMmuxAJNAJcNkRRsVeJwwqKURZav/+YrVMqaWE2hvMxJwK4Ohf3nRgXHkFhQen1PRSciNdPYWmINCrip1wqw01PJCA0uL9aE2sjICZqv6GoCAa3R/zDj7qnkpY/Z/3Di'"
      ]
     },
     "execution_count": 16,
     "metadata": {},
     "output_type": "execute_result"
    }
   ],
   "source": [
    "EVENTVALIDATION"
   ]
  },
  {
   "cell_type": "code",
   "execution_count": null,
   "metadata": {
    "collapsed": true
   },
   "outputs": [],
   "source": []
  },
  {
   "cell_type": "code",
   "execution_count": null,
   "metadata": {
    "collapsed": true
   },
   "outputs": [],
   "source": [
    "rs = requests.session()\n",
    "r1 = rs.get('http://bsr.twse.com.tw/bshtm/bsMenu.aspx')\n",
    "r1.encoding = 'utf-8'\n",
    "soup = BS(r1.text,'lxml')\n",
    "guid = soup.findAll('img')[1].attrs['src']\n",
    "VIEWSTATE = soup.select('#__VIEWSTATE')[0].attrs['value']\n",
    "EVENTVALIDATION = soup.select('#__EVENTVALIDATION')[0].attrs['value']\n",
    "captcha = rs.get('http://bsr.twse.com.tw/bshtm/%s'%guid, stream=True, verify=False)\n",
    "Image(io.BytesIO(captcha.content).getvalue(), format='jpeg')"
   ]
  }
 ],
 "metadata": {
  "kernelspec": {
   "display_name": "Python 3",
   "language": "python",
   "name": "python3"
  },
  "language_info": {
   "codemirror_mode": {
    "name": "ipython",
    "version": 3
   },
   "file_extension": ".py",
   "mimetype": "text/x-python",
   "name": "python",
   "nbconvert_exporter": "python",
   "pygments_lexer": "ipython3",
   "version": "3.5.1"
  }
 },
 "nbformat": 4,
 "nbformat_minor": 0
}
